{
 "cells": [
  {
   "cell_type": "code",
   "execution_count": 1,
   "id": "f4196da0",
   "metadata": {},
   "outputs": [],
   "source": [
    "import time\n",
    "import warnings\n",
    "import pandas as pd\n",
    "from sklearn.preprocessing import StandardScaler\n",
    "from sklearn.model_selection import train_test_split, GridSearchCV, cross_val_score, cross_val_predict\n",
    "import pandas as pd\n",
    "import numpy as np\n",
    "import matplotlib.pyplot as plt\n",
    "%matplotlib inline\n",
    "import seaborn as sns\n",
    "from sklearn.metrics import confusion_matrix,accuracy_score,roc_curve,classification_report,roc_auc_score\n",
    "from sklearn.linear_model import LogisticRegression\n",
    "from sklearn.naive_bayes import GaussianNB, MultinomialNB, BernoulliNB\n",
    "from sklearn.ensemble import RandomForestClassifier\n",
    "from sklearn.tree import DecisionTreeClassifier\n",
    "from sklearn.neighbors import KNeighborsClassifier\n",
    "from sklearn.naive_bayes import GaussianNB\n",
    "from sklearn.svm import SVC\n",
    "from sklearn.ensemble import StackingClassifier"
   ]
  },
  {
   "cell_type": "code",
   "execution_count": 2,
   "id": "912e71d2",
   "metadata": {},
   "outputs": [],
   "source": [
    "column_names=['age','sex','cp','trestbps','chol','fbs','restecg','thalach','exang','oldpeak','slope','ca','thal','num']\n"
   ]
  },
  {
   "cell_type": "code",
   "execution_count": 3,
   "id": "00d6aac6",
   "metadata": {},
   "outputs": [],
   "source": [
    "df= pd.read_csv(\"cleveland.data\", delimiter=',', header=None, names=column_names)"
   ]
  },
  {
   "cell_type": "code",
   "execution_count": 4,
   "id": "61f3f20a",
   "metadata": {},
   "outputs": [
    {
     "name": "stdout",
     "output_type": "stream",
     "text": [
      "age         float64\n",
      "sex         float64\n",
      "cp          float64\n",
      "trestbps    float64\n",
      "chol        float64\n",
      "fbs         float64\n",
      "restecg     float64\n",
      "thalach     float64\n",
      "exang       float64\n",
      "oldpeak     float64\n",
      "slope       float64\n",
      "ca           object\n",
      "thal         object\n",
      "num           int64\n",
      "dtype: object\n"
     ]
    }
   ],
   "source": [
    "types=df.dtypes\n",
    "print(types)"
   ]
  },
  {
   "cell_type": "code",
   "execution_count": 5,
   "id": "7e2b531c",
   "metadata": {},
   "outputs": [
    {
     "data": {
      "text/html": [
       "<div>\n",
       "<style scoped>\n",
       "    .dataframe tbody tr th:only-of-type {\n",
       "        vertical-align: middle;\n",
       "    }\n",
       "\n",
       "    .dataframe tbody tr th {\n",
       "        vertical-align: top;\n",
       "    }\n",
       "\n",
       "    .dataframe thead th {\n",
       "        text-align: right;\n",
       "    }\n",
       "</style>\n",
       "<table border=\"1\" class=\"dataframe\">\n",
       "  <thead>\n",
       "    <tr style=\"text-align: right;\">\n",
       "      <th></th>\n",
       "      <th>age</th>\n",
       "      <th>sex</th>\n",
       "      <th>cp</th>\n",
       "      <th>trestbps</th>\n",
       "      <th>chol</th>\n",
       "      <th>fbs</th>\n",
       "      <th>restecg</th>\n",
       "      <th>thalach</th>\n",
       "      <th>exang</th>\n",
       "      <th>oldpeak</th>\n",
       "      <th>slope</th>\n",
       "      <th>ca</th>\n",
       "      <th>thal</th>\n",
       "      <th>num</th>\n",
       "    </tr>\n",
       "  </thead>\n",
       "  <tbody>\n",
       "    <tr>\n",
       "      <th>0</th>\n",
       "      <td>63.0</td>\n",
       "      <td>1.0</td>\n",
       "      <td>1.0</td>\n",
       "      <td>145.0</td>\n",
       "      <td>233.0</td>\n",
       "      <td>1.0</td>\n",
       "      <td>2.0</td>\n",
       "      <td>150.0</td>\n",
       "      <td>0.0</td>\n",
       "      <td>2.3</td>\n",
       "      <td>3.0</td>\n",
       "      <td>0.0</td>\n",
       "      <td>6.0</td>\n",
       "      <td>0</td>\n",
       "    </tr>\n",
       "    <tr>\n",
       "      <th>1</th>\n",
       "      <td>67.0</td>\n",
       "      <td>1.0</td>\n",
       "      <td>4.0</td>\n",
       "      <td>160.0</td>\n",
       "      <td>286.0</td>\n",
       "      <td>0.0</td>\n",
       "      <td>2.0</td>\n",
       "      <td>108.0</td>\n",
       "      <td>1.0</td>\n",
       "      <td>1.5</td>\n",
       "      <td>2.0</td>\n",
       "      <td>3.0</td>\n",
       "      <td>3.0</td>\n",
       "      <td>2</td>\n",
       "    </tr>\n",
       "    <tr>\n",
       "      <th>2</th>\n",
       "      <td>67.0</td>\n",
       "      <td>1.0</td>\n",
       "      <td>4.0</td>\n",
       "      <td>120.0</td>\n",
       "      <td>229.0</td>\n",
       "      <td>0.0</td>\n",
       "      <td>2.0</td>\n",
       "      <td>129.0</td>\n",
       "      <td>1.0</td>\n",
       "      <td>2.6</td>\n",
       "      <td>2.0</td>\n",
       "      <td>2.0</td>\n",
       "      <td>7.0</td>\n",
       "      <td>1</td>\n",
       "    </tr>\n",
       "    <tr>\n",
       "      <th>3</th>\n",
       "      <td>37.0</td>\n",
       "      <td>1.0</td>\n",
       "      <td>3.0</td>\n",
       "      <td>130.0</td>\n",
       "      <td>250.0</td>\n",
       "      <td>0.0</td>\n",
       "      <td>0.0</td>\n",
       "      <td>187.0</td>\n",
       "      <td>0.0</td>\n",
       "      <td>3.5</td>\n",
       "      <td>3.0</td>\n",
       "      <td>0.0</td>\n",
       "      <td>3.0</td>\n",
       "      <td>0</td>\n",
       "    </tr>\n",
       "    <tr>\n",
       "      <th>4</th>\n",
       "      <td>41.0</td>\n",
       "      <td>0.0</td>\n",
       "      <td>2.0</td>\n",
       "      <td>130.0</td>\n",
       "      <td>204.0</td>\n",
       "      <td>0.0</td>\n",
       "      <td>2.0</td>\n",
       "      <td>172.0</td>\n",
       "      <td>0.0</td>\n",
       "      <td>1.4</td>\n",
       "      <td>1.0</td>\n",
       "      <td>0.0</td>\n",
       "      <td>3.0</td>\n",
       "      <td>0</td>\n",
       "    </tr>\n",
       "  </tbody>\n",
       "</table>\n",
       "</div>"
      ],
      "text/plain": [
       "    age  sex   cp  trestbps   chol  fbs  restecg  thalach  exang  oldpeak  \\\n",
       "0  63.0  1.0  1.0     145.0  233.0  1.0      2.0    150.0    0.0      2.3   \n",
       "1  67.0  1.0  4.0     160.0  286.0  0.0      2.0    108.0    1.0      1.5   \n",
       "2  67.0  1.0  4.0     120.0  229.0  0.0      2.0    129.0    1.0      2.6   \n",
       "3  37.0  1.0  3.0     130.0  250.0  0.0      0.0    187.0    0.0      3.5   \n",
       "4  41.0  0.0  2.0     130.0  204.0  0.0      2.0    172.0    0.0      1.4   \n",
       "\n",
       "   slope   ca thal  num  \n",
       "0    3.0  0.0  6.0    0  \n",
       "1    2.0  3.0  3.0    2  \n",
       "2    2.0  2.0  7.0    1  \n",
       "3    3.0  0.0  3.0    0  \n",
       "4    1.0  0.0  3.0    0  "
      ]
     },
     "execution_count": 5,
     "metadata": {},
     "output_type": "execute_result"
    }
   ],
   "source": [
    "df.head()"
   ]
  },
  {
   "cell_type": "code",
   "execution_count": 6,
   "id": "9e0b5846",
   "metadata": {},
   "outputs": [
    {
     "name": "stdout",
     "output_type": "stream",
     "text": [
      "\n",
      "Column Name: num\n",
      "0    164\n",
      "1     55\n",
      "2     36\n",
      "3     35\n",
      "4     13\n",
      "Name: num, dtype: int64\n",
      "\n",
      "Column Name: target\n",
      "0    164\n",
      "1    139\n",
      "Name: target, dtype: int64\n"
     ]
    }
   ],
   "source": [
    "#rearranging quality and creating a new column named categorized quality\n",
    "df['target'] = [1 if x > 0 else 0 for x in df['num']]\n",
    "\n",
    "#testing the rearranging worked\n",
    "print('\\nColumn Name:', 'num',)\n",
    "print(df['num'].value_counts())\n",
    "print('\\nColumn Name:', 'target',)\n",
    "print(df['target'].value_counts())"
   ]
  },
  {
   "cell_type": "code",
   "execution_count": 7,
   "id": "e2b013df",
   "metadata": {},
   "outputs": [
    {
     "name": "stdout",
     "output_type": "stream",
     "text": [
      "<class 'pandas.core.frame.DataFrame'>\n",
      "RangeIndex: 303 entries, 0 to 302\n",
      "Data columns (total 15 columns):\n",
      " #   Column    Non-Null Count  Dtype  \n",
      "---  ------    --------------  -----  \n",
      " 0   age       303 non-null    float64\n",
      " 1   sex       303 non-null    float64\n",
      " 2   cp        303 non-null    float64\n",
      " 3   trestbps  303 non-null    float64\n",
      " 4   chol      303 non-null    float64\n",
      " 5   fbs       303 non-null    float64\n",
      " 6   restecg   303 non-null    float64\n",
      " 7   thalach   303 non-null    float64\n",
      " 8   exang     303 non-null    float64\n",
      " 9   oldpeak   303 non-null    float64\n",
      " 10  slope     303 non-null    float64\n",
      " 11  ca        303 non-null    object \n",
      " 12  thal      303 non-null    object \n",
      " 13  num       303 non-null    int64  \n",
      " 14  target    303 non-null    int64  \n",
      "dtypes: float64(11), int64(2), object(2)\n",
      "memory usage: 35.6+ KB\n"
     ]
    }
   ],
   "source": [
    "df.info()"
   ]
  },
  {
   "cell_type": "code",
   "execution_count": 8,
   "id": "83980022",
   "metadata": {},
   "outputs": [
    {
     "data": {
      "text/plain": [
       "(303, 15)"
      ]
     },
     "execution_count": 8,
     "metadata": {},
     "output_type": "execute_result"
    }
   ],
   "source": [
    "df.shape"
   ]
  },
  {
   "cell_type": "code",
   "execution_count": 9,
   "id": "250e3572",
   "metadata": {},
   "outputs": [],
   "source": [
    "# Replace '?' with NaN\n",
    "df['ca'] = df['ca'].replace('?', np.nan)\n",
    "\n",
    "# Convert to float type\n",
    "df['ca'] = df['ca'].astype(float)"
   ]
  },
  {
   "cell_type": "code",
   "execution_count": 10,
   "id": "1ecbf0de",
   "metadata": {},
   "outputs": [],
   "source": [
    "# Replace '?' with NaN\n",
    "df['thal'] = df['thal'].replace('?', np.nan)\n",
    "\n",
    "# Convert to float type\n",
    "df['thal'] = df['thal'].astype(float)"
   ]
  },
  {
   "cell_type": "code",
   "execution_count": 11,
   "id": "b2be930c",
   "metadata": {
    "scrolled": true
   },
   "outputs": [
    {
     "name": "stdout",
     "output_type": "stream",
     "text": [
      "<class 'pandas.core.frame.DataFrame'>\n",
      "RangeIndex: 303 entries, 0 to 302\n",
      "Data columns (total 15 columns):\n",
      " #   Column    Non-Null Count  Dtype  \n",
      "---  ------    --------------  -----  \n",
      " 0   age       303 non-null    float64\n",
      " 1   sex       303 non-null    float64\n",
      " 2   cp        303 non-null    float64\n",
      " 3   trestbps  303 non-null    float64\n",
      " 4   chol      303 non-null    float64\n",
      " 5   fbs       303 non-null    float64\n",
      " 6   restecg   303 non-null    float64\n",
      " 7   thalach   303 non-null    float64\n",
      " 8   exang     303 non-null    float64\n",
      " 9   oldpeak   303 non-null    float64\n",
      " 10  slope     303 non-null    float64\n",
      " 11  ca        299 non-null    float64\n",
      " 12  thal      301 non-null    float64\n",
      " 13  num       303 non-null    int64  \n",
      " 14  target    303 non-null    int64  \n",
      "dtypes: float64(13), int64(2)\n",
      "memory usage: 35.6 KB\n"
     ]
    }
   ],
   "source": [
    "df.info()"
   ]
  },
  {
   "cell_type": "code",
   "execution_count": 12,
   "id": "ecec6513",
   "metadata": {
    "scrolled": true
   },
   "outputs": [
    {
     "data": {
      "text/plain": [
       "age         0\n",
       "sex         0\n",
       "cp          0\n",
       "trestbps    0\n",
       "chol        0\n",
       "fbs         0\n",
       "restecg     0\n",
       "thalach     0\n",
       "exang       0\n",
       "oldpeak     0\n",
       "slope       0\n",
       "ca          4\n",
       "thal        2\n",
       "num         0\n",
       "target      0\n",
       "dtype: int64"
      ]
     },
     "execution_count": 12,
     "metadata": {},
     "output_type": "execute_result"
    }
   ],
   "source": [
    "df.isnull().sum()"
   ]
  },
  {
   "cell_type": "code",
   "execution_count": 13,
   "id": "2952f5b1",
   "metadata": {},
   "outputs": [
    {
     "data": {
      "text/html": [
       "<div>\n",
       "<style scoped>\n",
       "    .dataframe tbody tr th:only-of-type {\n",
       "        vertical-align: middle;\n",
       "    }\n",
       "\n",
       "    .dataframe tbody tr th {\n",
       "        vertical-align: top;\n",
       "    }\n",
       "\n",
       "    .dataframe thead th {\n",
       "        text-align: right;\n",
       "    }\n",
       "</style>\n",
       "<table border=\"1\" class=\"dataframe\">\n",
       "  <thead>\n",
       "    <tr style=\"text-align: right;\">\n",
       "      <th></th>\n",
       "      <th>age</th>\n",
       "      <th>sex</th>\n",
       "      <th>cp</th>\n",
       "      <th>trestbps</th>\n",
       "      <th>chol</th>\n",
       "      <th>fbs</th>\n",
       "      <th>restecg</th>\n",
       "      <th>thalach</th>\n",
       "      <th>exang</th>\n",
       "      <th>oldpeak</th>\n",
       "      <th>slope</th>\n",
       "      <th>ca</th>\n",
       "      <th>thal</th>\n",
       "      <th>num</th>\n",
       "      <th>target</th>\n",
       "    </tr>\n",
       "  </thead>\n",
       "  <tbody>\n",
       "    <tr>\n",
       "      <th>87</th>\n",
       "      <td>53.0</td>\n",
       "      <td>0.0</td>\n",
       "      <td>3.0</td>\n",
       "      <td>128.0</td>\n",
       "      <td>216.0</td>\n",
       "      <td>0.0</td>\n",
       "      <td>2.0</td>\n",
       "      <td>115.0</td>\n",
       "      <td>0.0</td>\n",
       "      <td>0.0</td>\n",
       "      <td>1.0</td>\n",
       "      <td>0.0</td>\n",
       "      <td>NaN</td>\n",
       "      <td>0</td>\n",
       "      <td>0</td>\n",
       "    </tr>\n",
       "    <tr>\n",
       "      <th>166</th>\n",
       "      <td>52.0</td>\n",
       "      <td>1.0</td>\n",
       "      <td>3.0</td>\n",
       "      <td>138.0</td>\n",
       "      <td>223.0</td>\n",
       "      <td>0.0</td>\n",
       "      <td>0.0</td>\n",
       "      <td>169.0</td>\n",
       "      <td>0.0</td>\n",
       "      <td>0.0</td>\n",
       "      <td>1.0</td>\n",
       "      <td>NaN</td>\n",
       "      <td>3.0</td>\n",
       "      <td>0</td>\n",
       "      <td>0</td>\n",
       "    </tr>\n",
       "    <tr>\n",
       "      <th>192</th>\n",
       "      <td>43.0</td>\n",
       "      <td>1.0</td>\n",
       "      <td>4.0</td>\n",
       "      <td>132.0</td>\n",
       "      <td>247.0</td>\n",
       "      <td>1.0</td>\n",
       "      <td>2.0</td>\n",
       "      <td>143.0</td>\n",
       "      <td>1.0</td>\n",
       "      <td>0.1</td>\n",
       "      <td>2.0</td>\n",
       "      <td>NaN</td>\n",
       "      <td>7.0</td>\n",
       "      <td>1</td>\n",
       "      <td>1</td>\n",
       "    </tr>\n",
       "    <tr>\n",
       "      <th>266</th>\n",
       "      <td>52.0</td>\n",
       "      <td>1.0</td>\n",
       "      <td>4.0</td>\n",
       "      <td>128.0</td>\n",
       "      <td>204.0</td>\n",
       "      <td>1.0</td>\n",
       "      <td>0.0</td>\n",
       "      <td>156.0</td>\n",
       "      <td>1.0</td>\n",
       "      <td>1.0</td>\n",
       "      <td>2.0</td>\n",
       "      <td>0.0</td>\n",
       "      <td>NaN</td>\n",
       "      <td>2</td>\n",
       "      <td>1</td>\n",
       "    </tr>\n",
       "    <tr>\n",
       "      <th>287</th>\n",
       "      <td>58.0</td>\n",
       "      <td>1.0</td>\n",
       "      <td>2.0</td>\n",
       "      <td>125.0</td>\n",
       "      <td>220.0</td>\n",
       "      <td>0.0</td>\n",
       "      <td>0.0</td>\n",
       "      <td>144.0</td>\n",
       "      <td>0.0</td>\n",
       "      <td>0.4</td>\n",
       "      <td>2.0</td>\n",
       "      <td>NaN</td>\n",
       "      <td>7.0</td>\n",
       "      <td>0</td>\n",
       "      <td>0</td>\n",
       "    </tr>\n",
       "    <tr>\n",
       "      <th>302</th>\n",
       "      <td>38.0</td>\n",
       "      <td>1.0</td>\n",
       "      <td>3.0</td>\n",
       "      <td>138.0</td>\n",
       "      <td>175.0</td>\n",
       "      <td>0.0</td>\n",
       "      <td>0.0</td>\n",
       "      <td>173.0</td>\n",
       "      <td>0.0</td>\n",
       "      <td>0.0</td>\n",
       "      <td>1.0</td>\n",
       "      <td>NaN</td>\n",
       "      <td>3.0</td>\n",
       "      <td>0</td>\n",
       "      <td>0</td>\n",
       "    </tr>\n",
       "  </tbody>\n",
       "</table>\n",
       "</div>"
      ],
      "text/plain": [
       "      age  sex   cp  trestbps   chol  fbs  restecg  thalach  exang  oldpeak  \\\n",
       "87   53.0  0.0  3.0     128.0  216.0  0.0      2.0    115.0    0.0      0.0   \n",
       "166  52.0  1.0  3.0     138.0  223.0  0.0      0.0    169.0    0.0      0.0   \n",
       "192  43.0  1.0  4.0     132.0  247.0  1.0      2.0    143.0    1.0      0.1   \n",
       "266  52.0  1.0  4.0     128.0  204.0  1.0      0.0    156.0    1.0      1.0   \n",
       "287  58.0  1.0  2.0     125.0  220.0  0.0      0.0    144.0    0.0      0.4   \n",
       "302  38.0  1.0  3.0     138.0  175.0  0.0      0.0    173.0    0.0      0.0   \n",
       "\n",
       "     slope   ca  thal  num  target  \n",
       "87     1.0  0.0   NaN    0       0  \n",
       "166    1.0  NaN   3.0    0       0  \n",
       "192    2.0  NaN   7.0    1       1  \n",
       "266    2.0  0.0   NaN    2       1  \n",
       "287    2.0  NaN   7.0    0       0  \n",
       "302    1.0  NaN   3.0    0       0  "
      ]
     },
     "execution_count": 13,
     "metadata": {},
     "output_type": "execute_result"
    }
   ],
   "source": [
    "null_mask = df.isnull().any(axis=1)\n",
    "null_rows = df[null_mask]\n",
    "null_rows"
   ]
  },
  {
   "cell_type": "code",
   "execution_count": 14,
   "id": "821f15c8",
   "metadata": {},
   "outputs": [],
   "source": [
    "df=df.dropna()"
   ]
  },
  {
   "cell_type": "code",
   "execution_count": 15,
   "id": "f7b6c46a",
   "metadata": {},
   "outputs": [
    {
     "data": {
      "text/html": [
       "<div>\n",
       "<style scoped>\n",
       "    .dataframe tbody tr th:only-of-type {\n",
       "        vertical-align: middle;\n",
       "    }\n",
       "\n",
       "    .dataframe tbody tr th {\n",
       "        vertical-align: top;\n",
       "    }\n",
       "\n",
       "    .dataframe thead th {\n",
       "        text-align: right;\n",
       "    }\n",
       "</style>\n",
       "<table border=\"1\" class=\"dataframe\">\n",
       "  <thead>\n",
       "    <tr style=\"text-align: right;\">\n",
       "      <th></th>\n",
       "      <th>age</th>\n",
       "      <th>sex</th>\n",
       "      <th>cp</th>\n",
       "      <th>trestbps</th>\n",
       "      <th>chol</th>\n",
       "      <th>fbs</th>\n",
       "      <th>restecg</th>\n",
       "      <th>thalach</th>\n",
       "      <th>exang</th>\n",
       "      <th>oldpeak</th>\n",
       "      <th>slope</th>\n",
       "      <th>ca</th>\n",
       "      <th>thal</th>\n",
       "      <th>num</th>\n",
       "      <th>target</th>\n",
       "    </tr>\n",
       "  </thead>\n",
       "  <tbody>\n",
       "    <tr>\n",
       "      <th>169</th>\n",
       "      <td>45.0</td>\n",
       "      <td>0.0</td>\n",
       "      <td>2.0</td>\n",
       "      <td>112.0</td>\n",
       "      <td>160.0</td>\n",
       "      <td>0.0</td>\n",
       "      <td>0.0</td>\n",
       "      <td>138.0</td>\n",
       "      <td>0.0</td>\n",
       "      <td>0.0</td>\n",
       "      <td>2.0</td>\n",
       "      <td>0.0</td>\n",
       "      <td>3.0</td>\n",
       "      <td>0</td>\n",
       "      <td>0</td>\n",
       "    </tr>\n",
       "    <tr>\n",
       "      <th>214</th>\n",
       "      <td>52.0</td>\n",
       "      <td>1.0</td>\n",
       "      <td>4.0</td>\n",
       "      <td>112.0</td>\n",
       "      <td>230.0</td>\n",
       "      <td>0.0</td>\n",
       "      <td>0.0</td>\n",
       "      <td>160.0</td>\n",
       "      <td>0.0</td>\n",
       "      <td>0.0</td>\n",
       "      <td>1.0</td>\n",
       "      <td>1.0</td>\n",
       "      <td>3.0</td>\n",
       "      <td>1</td>\n",
       "      <td>1</td>\n",
       "    </tr>\n",
       "    <tr>\n",
       "      <th>63</th>\n",
       "      <td>54.0</td>\n",
       "      <td>0.0</td>\n",
       "      <td>3.0</td>\n",
       "      <td>135.0</td>\n",
       "      <td>304.0</td>\n",
       "      <td>1.0</td>\n",
       "      <td>0.0</td>\n",
       "      <td>170.0</td>\n",
       "      <td>0.0</td>\n",
       "      <td>0.0</td>\n",
       "      <td>1.0</td>\n",
       "      <td>0.0</td>\n",
       "      <td>3.0</td>\n",
       "      <td>0</td>\n",
       "      <td>0</td>\n",
       "    </tr>\n",
       "    <tr>\n",
       "      <th>155</th>\n",
       "      <td>70.0</td>\n",
       "      <td>1.0</td>\n",
       "      <td>4.0</td>\n",
       "      <td>130.0</td>\n",
       "      <td>322.0</td>\n",
       "      <td>0.0</td>\n",
       "      <td>2.0</td>\n",
       "      <td>109.0</td>\n",
       "      <td>0.0</td>\n",
       "      <td>2.4</td>\n",
       "      <td>2.0</td>\n",
       "      <td>3.0</td>\n",
       "      <td>3.0</td>\n",
       "      <td>1</td>\n",
       "      <td>1</td>\n",
       "    </tr>\n",
       "    <tr>\n",
       "      <th>5</th>\n",
       "      <td>56.0</td>\n",
       "      <td>1.0</td>\n",
       "      <td>2.0</td>\n",
       "      <td>120.0</td>\n",
       "      <td>236.0</td>\n",
       "      <td>0.0</td>\n",
       "      <td>0.0</td>\n",
       "      <td>178.0</td>\n",
       "      <td>0.0</td>\n",
       "      <td>0.8</td>\n",
       "      <td>1.0</td>\n",
       "      <td>0.0</td>\n",
       "      <td>3.0</td>\n",
       "      <td>0</td>\n",
       "      <td>0</td>\n",
       "    </tr>\n",
       "  </tbody>\n",
       "</table>\n",
       "</div>"
      ],
      "text/plain": [
       "      age  sex   cp  trestbps   chol  fbs  restecg  thalach  exang  oldpeak  \\\n",
       "169  45.0  0.0  2.0     112.0  160.0  0.0      0.0    138.0    0.0      0.0   \n",
       "214  52.0  1.0  4.0     112.0  230.0  0.0      0.0    160.0    0.0      0.0   \n",
       "63   54.0  0.0  3.0     135.0  304.0  1.0      0.0    170.0    0.0      0.0   \n",
       "155  70.0  1.0  4.0     130.0  322.0  0.0      2.0    109.0    0.0      2.4   \n",
       "5    56.0  1.0  2.0     120.0  236.0  0.0      0.0    178.0    0.0      0.8   \n",
       "\n",
       "     slope   ca  thal  num  target  \n",
       "169    2.0  0.0   3.0    0       0  \n",
       "214    1.0  1.0   3.0    1       1  \n",
       "63     1.0  0.0   3.0    0       0  \n",
       "155    2.0  3.0   3.0    1       1  \n",
       "5      1.0  0.0   3.0    0       0  "
      ]
     },
     "execution_count": 15,
     "metadata": {},
     "output_type": "execute_result"
    }
   ],
   "source": [
    "shuffled_df = df.sample(frac=1.0, random_state=42)\n",
    "shuffled_df.head()"
   ]
  },
  {
   "cell_type": "code",
   "execution_count": 16,
   "id": "198a5332",
   "metadata": {},
   "outputs": [
    {
     "data": {
      "text/plain": [
       "(297, 15)"
      ]
     },
     "execution_count": 16,
     "metadata": {},
     "output_type": "execute_result"
    }
   ],
   "source": [
    "shuffled_df.shape"
   ]
  },
  {
   "cell_type": "code",
   "execution_count": 17,
   "id": "193ed457",
   "metadata": {},
   "outputs": [
    {
     "data": {
      "text/html": [
       "<div>\n",
       "<style scoped>\n",
       "    .dataframe tbody tr th:only-of-type {\n",
       "        vertical-align: middle;\n",
       "    }\n",
       "\n",
       "    .dataframe tbody tr th {\n",
       "        vertical-align: top;\n",
       "    }\n",
       "\n",
       "    .dataframe thead th {\n",
       "        text-align: right;\n",
       "    }\n",
       "</style>\n",
       "<table border=\"1\" class=\"dataframe\">\n",
       "  <thead>\n",
       "    <tr style=\"text-align: right;\">\n",
       "      <th></th>\n",
       "      <th>age</th>\n",
       "      <th>sex</th>\n",
       "      <th>cp</th>\n",
       "      <th>trestbps</th>\n",
       "      <th>chol</th>\n",
       "      <th>fbs</th>\n",
       "      <th>restecg</th>\n",
       "      <th>thalach</th>\n",
       "      <th>exang</th>\n",
       "      <th>oldpeak</th>\n",
       "      <th>slope</th>\n",
       "      <th>ca</th>\n",
       "      <th>thal</th>\n",
       "      <th>num</th>\n",
       "      <th>target</th>\n",
       "    </tr>\n",
       "  </thead>\n",
       "  <tbody>\n",
       "    <tr>\n",
       "      <th>count</th>\n",
       "      <td>297.000000</td>\n",
       "      <td>297.000000</td>\n",
       "      <td>297.000000</td>\n",
       "      <td>297.000000</td>\n",
       "      <td>297.000000</td>\n",
       "      <td>297.000000</td>\n",
       "      <td>297.000000</td>\n",
       "      <td>297.000000</td>\n",
       "      <td>297.000000</td>\n",
       "      <td>297.000000</td>\n",
       "      <td>297.000000</td>\n",
       "      <td>297.000000</td>\n",
       "      <td>297.000000</td>\n",
       "      <td>297.000000</td>\n",
       "      <td>297.000000</td>\n",
       "    </tr>\n",
       "    <tr>\n",
       "      <th>mean</th>\n",
       "      <td>54.542088</td>\n",
       "      <td>0.676768</td>\n",
       "      <td>3.158249</td>\n",
       "      <td>131.693603</td>\n",
       "      <td>247.350168</td>\n",
       "      <td>0.144781</td>\n",
       "      <td>0.996633</td>\n",
       "      <td>149.599327</td>\n",
       "      <td>0.326599</td>\n",
       "      <td>1.055556</td>\n",
       "      <td>1.602694</td>\n",
       "      <td>0.676768</td>\n",
       "      <td>4.730640</td>\n",
       "      <td>0.946128</td>\n",
       "      <td>0.461279</td>\n",
       "    </tr>\n",
       "    <tr>\n",
       "      <th>std</th>\n",
       "      <td>9.049736</td>\n",
       "      <td>0.468500</td>\n",
       "      <td>0.964859</td>\n",
       "      <td>17.762806</td>\n",
       "      <td>51.997583</td>\n",
       "      <td>0.352474</td>\n",
       "      <td>0.994914</td>\n",
       "      <td>22.941562</td>\n",
       "      <td>0.469761</td>\n",
       "      <td>1.166123</td>\n",
       "      <td>0.618187</td>\n",
       "      <td>0.938965</td>\n",
       "      <td>1.938629</td>\n",
       "      <td>1.234551</td>\n",
       "      <td>0.499340</td>\n",
       "    </tr>\n",
       "    <tr>\n",
       "      <th>min</th>\n",
       "      <td>29.000000</td>\n",
       "      <td>0.000000</td>\n",
       "      <td>1.000000</td>\n",
       "      <td>94.000000</td>\n",
       "      <td>126.000000</td>\n",
       "      <td>0.000000</td>\n",
       "      <td>0.000000</td>\n",
       "      <td>71.000000</td>\n",
       "      <td>0.000000</td>\n",
       "      <td>0.000000</td>\n",
       "      <td>1.000000</td>\n",
       "      <td>0.000000</td>\n",
       "      <td>3.000000</td>\n",
       "      <td>0.000000</td>\n",
       "      <td>0.000000</td>\n",
       "    </tr>\n",
       "    <tr>\n",
       "      <th>25%</th>\n",
       "      <td>48.000000</td>\n",
       "      <td>0.000000</td>\n",
       "      <td>3.000000</td>\n",
       "      <td>120.000000</td>\n",
       "      <td>211.000000</td>\n",
       "      <td>0.000000</td>\n",
       "      <td>0.000000</td>\n",
       "      <td>133.000000</td>\n",
       "      <td>0.000000</td>\n",
       "      <td>0.000000</td>\n",
       "      <td>1.000000</td>\n",
       "      <td>0.000000</td>\n",
       "      <td>3.000000</td>\n",
       "      <td>0.000000</td>\n",
       "      <td>0.000000</td>\n",
       "    </tr>\n",
       "    <tr>\n",
       "      <th>50%</th>\n",
       "      <td>56.000000</td>\n",
       "      <td>1.000000</td>\n",
       "      <td>3.000000</td>\n",
       "      <td>130.000000</td>\n",
       "      <td>243.000000</td>\n",
       "      <td>0.000000</td>\n",
       "      <td>1.000000</td>\n",
       "      <td>153.000000</td>\n",
       "      <td>0.000000</td>\n",
       "      <td>0.800000</td>\n",
       "      <td>2.000000</td>\n",
       "      <td>0.000000</td>\n",
       "      <td>3.000000</td>\n",
       "      <td>0.000000</td>\n",
       "      <td>0.000000</td>\n",
       "    </tr>\n",
       "    <tr>\n",
       "      <th>75%</th>\n",
       "      <td>61.000000</td>\n",
       "      <td>1.000000</td>\n",
       "      <td>4.000000</td>\n",
       "      <td>140.000000</td>\n",
       "      <td>276.000000</td>\n",
       "      <td>0.000000</td>\n",
       "      <td>2.000000</td>\n",
       "      <td>166.000000</td>\n",
       "      <td>1.000000</td>\n",
       "      <td>1.600000</td>\n",
       "      <td>2.000000</td>\n",
       "      <td>1.000000</td>\n",
       "      <td>7.000000</td>\n",
       "      <td>2.000000</td>\n",
       "      <td>1.000000</td>\n",
       "    </tr>\n",
       "    <tr>\n",
       "      <th>max</th>\n",
       "      <td>77.000000</td>\n",
       "      <td>1.000000</td>\n",
       "      <td>4.000000</td>\n",
       "      <td>200.000000</td>\n",
       "      <td>564.000000</td>\n",
       "      <td>1.000000</td>\n",
       "      <td>2.000000</td>\n",
       "      <td>202.000000</td>\n",
       "      <td>1.000000</td>\n",
       "      <td>6.200000</td>\n",
       "      <td>3.000000</td>\n",
       "      <td>3.000000</td>\n",
       "      <td>7.000000</td>\n",
       "      <td>4.000000</td>\n",
       "      <td>1.000000</td>\n",
       "    </tr>\n",
       "  </tbody>\n",
       "</table>\n",
       "</div>"
      ],
      "text/plain": [
       "              age         sex          cp    trestbps        chol         fbs  \\\n",
       "count  297.000000  297.000000  297.000000  297.000000  297.000000  297.000000   \n",
       "mean    54.542088    0.676768    3.158249  131.693603  247.350168    0.144781   \n",
       "std      9.049736    0.468500    0.964859   17.762806   51.997583    0.352474   \n",
       "min     29.000000    0.000000    1.000000   94.000000  126.000000    0.000000   \n",
       "25%     48.000000    0.000000    3.000000  120.000000  211.000000    0.000000   \n",
       "50%     56.000000    1.000000    3.000000  130.000000  243.000000    0.000000   \n",
       "75%     61.000000    1.000000    4.000000  140.000000  276.000000    0.000000   \n",
       "max     77.000000    1.000000    4.000000  200.000000  564.000000    1.000000   \n",
       "\n",
       "          restecg     thalach       exang     oldpeak       slope          ca  \\\n",
       "count  297.000000  297.000000  297.000000  297.000000  297.000000  297.000000   \n",
       "mean     0.996633  149.599327    0.326599    1.055556    1.602694    0.676768   \n",
       "std      0.994914   22.941562    0.469761    1.166123    0.618187    0.938965   \n",
       "min      0.000000   71.000000    0.000000    0.000000    1.000000    0.000000   \n",
       "25%      0.000000  133.000000    0.000000    0.000000    1.000000    0.000000   \n",
       "50%      1.000000  153.000000    0.000000    0.800000    2.000000    0.000000   \n",
       "75%      2.000000  166.000000    1.000000    1.600000    2.000000    1.000000   \n",
       "max      2.000000  202.000000    1.000000    6.200000    3.000000    3.000000   \n",
       "\n",
       "             thal         num      target  \n",
       "count  297.000000  297.000000  297.000000  \n",
       "mean     4.730640    0.946128    0.461279  \n",
       "std      1.938629    1.234551    0.499340  \n",
       "min      3.000000    0.000000    0.000000  \n",
       "25%      3.000000    0.000000    0.000000  \n",
       "50%      3.000000    0.000000    0.000000  \n",
       "75%      7.000000    2.000000    1.000000  \n",
       "max      7.000000    4.000000    1.000000  "
      ]
     },
     "execution_count": 17,
     "metadata": {},
     "output_type": "execute_result"
    }
   ],
   "source": [
    "df.describe()"
   ]
  },
  {
   "cell_type": "code",
   "execution_count": 18,
   "id": "2fdd2e85",
   "metadata": {},
   "outputs": [
    {
     "name": "stdout",
     "output_type": "stream",
     "text": [
      "(297, 13)\n"
     ]
    },
    {
     "data": {
      "text/html": [
       "<div>\n",
       "<style scoped>\n",
       "    .dataframe tbody tr th:only-of-type {\n",
       "        vertical-align: middle;\n",
       "    }\n",
       "\n",
       "    .dataframe tbody tr th {\n",
       "        vertical-align: top;\n",
       "    }\n",
       "\n",
       "    .dataframe thead th {\n",
       "        text-align: right;\n",
       "    }\n",
       "</style>\n",
       "<table border=\"1\" class=\"dataframe\">\n",
       "  <thead>\n",
       "    <tr style=\"text-align: right;\">\n",
       "      <th></th>\n",
       "      <th>age</th>\n",
       "      <th>sex</th>\n",
       "      <th>cp</th>\n",
       "      <th>trestbps</th>\n",
       "      <th>chol</th>\n",
       "      <th>fbs</th>\n",
       "      <th>restecg</th>\n",
       "      <th>thalach</th>\n",
       "      <th>exang</th>\n",
       "      <th>oldpeak</th>\n",
       "      <th>slope</th>\n",
       "      <th>ca</th>\n",
       "      <th>thal</th>\n",
       "    </tr>\n",
       "  </thead>\n",
       "  <tbody>\n",
       "    <tr>\n",
       "      <th>169</th>\n",
       "      <td>45.0</td>\n",
       "      <td>0.0</td>\n",
       "      <td>2.0</td>\n",
       "      <td>112.0</td>\n",
       "      <td>160.0</td>\n",
       "      <td>0.0</td>\n",
       "      <td>0.0</td>\n",
       "      <td>138.0</td>\n",
       "      <td>0.0</td>\n",
       "      <td>0.0</td>\n",
       "      <td>2.0</td>\n",
       "      <td>0.0</td>\n",
       "      <td>3.0</td>\n",
       "    </tr>\n",
       "    <tr>\n",
       "      <th>214</th>\n",
       "      <td>52.0</td>\n",
       "      <td>1.0</td>\n",
       "      <td>4.0</td>\n",
       "      <td>112.0</td>\n",
       "      <td>230.0</td>\n",
       "      <td>0.0</td>\n",
       "      <td>0.0</td>\n",
       "      <td>160.0</td>\n",
       "      <td>0.0</td>\n",
       "      <td>0.0</td>\n",
       "      <td>1.0</td>\n",
       "      <td>1.0</td>\n",
       "      <td>3.0</td>\n",
       "    </tr>\n",
       "    <tr>\n",
       "      <th>63</th>\n",
       "      <td>54.0</td>\n",
       "      <td>0.0</td>\n",
       "      <td>3.0</td>\n",
       "      <td>135.0</td>\n",
       "      <td>304.0</td>\n",
       "      <td>1.0</td>\n",
       "      <td>0.0</td>\n",
       "      <td>170.0</td>\n",
       "      <td>0.0</td>\n",
       "      <td>0.0</td>\n",
       "      <td>1.0</td>\n",
       "      <td>0.0</td>\n",
       "      <td>3.0</td>\n",
       "    </tr>\n",
       "    <tr>\n",
       "      <th>155</th>\n",
       "      <td>70.0</td>\n",
       "      <td>1.0</td>\n",
       "      <td>4.0</td>\n",
       "      <td>130.0</td>\n",
       "      <td>322.0</td>\n",
       "      <td>0.0</td>\n",
       "      <td>2.0</td>\n",
       "      <td>109.0</td>\n",
       "      <td>0.0</td>\n",
       "      <td>2.4</td>\n",
       "      <td>2.0</td>\n",
       "      <td>3.0</td>\n",
       "      <td>3.0</td>\n",
       "    </tr>\n",
       "    <tr>\n",
       "      <th>5</th>\n",
       "      <td>56.0</td>\n",
       "      <td>1.0</td>\n",
       "      <td>2.0</td>\n",
       "      <td>120.0</td>\n",
       "      <td>236.0</td>\n",
       "      <td>0.0</td>\n",
       "      <td>0.0</td>\n",
       "      <td>178.0</td>\n",
       "      <td>0.0</td>\n",
       "      <td>0.8</td>\n",
       "      <td>1.0</td>\n",
       "      <td>0.0</td>\n",
       "      <td>3.0</td>\n",
       "    </tr>\n",
       "  </tbody>\n",
       "</table>\n",
       "</div>"
      ],
      "text/plain": [
       "      age  sex   cp  trestbps   chol  fbs  restecg  thalach  exang  oldpeak  \\\n",
       "169  45.0  0.0  2.0     112.0  160.0  0.0      0.0    138.0    0.0      0.0   \n",
       "214  52.0  1.0  4.0     112.0  230.0  0.0      0.0    160.0    0.0      0.0   \n",
       "63   54.0  0.0  3.0     135.0  304.0  1.0      0.0    170.0    0.0      0.0   \n",
       "155  70.0  1.0  4.0     130.0  322.0  0.0      2.0    109.0    0.0      2.4   \n",
       "5    56.0  1.0  2.0     120.0  236.0  0.0      0.0    178.0    0.0      0.8   \n",
       "\n",
       "     slope   ca  thal  \n",
       "169    2.0  0.0   3.0  \n",
       "214    1.0  1.0   3.0  \n",
       "63     1.0  0.0   3.0  \n",
       "155    2.0  3.0   3.0  \n",
       "5      1.0  0.0   3.0  "
      ]
     },
     "execution_count": 18,
     "metadata": {},
     "output_type": "execute_result"
    }
   ],
   "source": [
    "y = shuffled_df[\"target\"]\n",
    "X = shuffled_df.drop(['target','num'],axis=1)\n",
    "print(X.shape)\n",
    "X.head()"
   ]
  },
  {
   "cell_type": "code",
   "execution_count": 19,
   "id": "38077d1c",
   "metadata": {},
   "outputs": [],
   "source": [
    "X_train, X_test, y_train, y_test = train_test_split(X, y, test_size=0.20, random_state = 0)\n",
    "scaler = StandardScaler()\n",
    "X_train = scaler.fit_transform(X_train)\n",
    "X_test = scaler.transform(X_test)"
   ]
  },
  {
   "cell_type": "code",
   "execution_count": 20,
   "id": "d3f1b98f",
   "metadata": {},
   "outputs": [
    {
     "name": "stdout",
     "output_type": "stream",
     "text": [
      "X_train shape: (237, 13)\n",
      "y_train shape: (237,)\n",
      "X_test shape: (60, 13)\n",
      "y_test shape: (60,)\n"
     ]
    }
   ],
   "source": [
    "print(f\"X_train shape: {X_train.shape}\")\n",
    "print(f\"y_train shape: {y_train.shape}\")\n",
    "print(f\"X_test shape: {X_test.shape}\")\n",
    "print(f\"y_test shape: {y_test.shape}\")"
   ]
  },
  {
   "cell_type": "code",
   "execution_count": 21,
   "id": "8aba3076",
   "metadata": {},
   "outputs": [
    {
     "data": {
      "image/png": "[encoded data removed]",
      "text/plain": [
       "<Figure size 720x576 with 2 Axes>"
      ]
     },
     "metadata": {
      "needs_background": "light"
     },
     "output_type": "display_data"
    }
   ],
   "source": [
    "correlation_matrix = df.corr()\n",
    "\n",
    "plt.figure(figsize=(10, 8))\n",
    "sns.heatmap(correlation_matrix, annot=True, cmap='coolwarm')\n",
    "plt.title('Correlation Heatmap')\n",
    "plt.show()"
   ]
  },
  {
   "cell_type": "code",
   "execution_count": 22,
   "id": "a5f596ed",
   "metadata": {},
   "outputs": [
    {
     "data": {
      "image/png": "[encoded data removed]",
      "text/plain": [
       "<Figure size 432x288 with 1 Axes>"
      ]
     },
     "metadata": {
      "needs_background": "light"
     },
     "output_type": "display_data"
    }
   ],
   "source": [
    "# Plot the distribution of the target variable\n",
    "sns.countplot(x='target', data=df)\n",
    "plt.xlabel('Target')\n",
    "plt.ylabel('Count')\n",
    "plt.title('Distribution of Target Variable')\n",
    "plt.show()"
   ]
  },
  {
   "cell_type": "code",
   "execution_count": 23,
   "id": "289cad24",
   "metadata": {},
   "outputs": [
    {
     "data": {
      "text/plain": [
       "target      1.000000\n",
       "num         0.829608\n",
       "thal        0.526640\n",
       "ca          0.463189\n",
       "oldpeak     0.424052\n",
       "exang       0.421355\n",
       "cp          0.408945\n",
       "slope       0.333049\n",
       "sex         0.278467\n",
       "age         0.227075\n",
       "restecg     0.166343\n",
       "trestbps    0.153490\n",
       "chol        0.080285\n",
       "fbs         0.003167\n",
       "thalach    -0.423817\n",
       "Name: target, dtype: float64"
      ]
     },
     "execution_count": 23,
     "metadata": {},
     "output_type": "execute_result"
    }
   ],
   "source": [
    "#Variable Correlations with the target \"Quality\"\n",
    "df.corr()['target'].sort_values(ascending=False)"
   ]
  },
  {
   "cell_type": "markdown",
   "id": "c952d961",
   "metadata": {},
   "source": [
    "## Model Selection"
   ]
  },
  {
   "cell_type": "markdown",
   "id": "c5b80678",
   "metadata": {},
   "source": [
    "### Logistic Regression"
   ]
  },
  {
   "cell_type": "code",
   "execution_count": 24,
   "id": "72acbad3",
   "metadata": {},
   "outputs": [
    {
     "name": "stdout",
     "output_type": "stream",
     "text": [
      "Best Logistic Regression parameters: {'C': 1, 'class_weight': None, 'fit_intercept': True, 'max_iter': 100, 'penalty': 'l1', 'solver': 'liblinear', 'tol': 1e-06}\n",
      "Best Logistic Regression score: 0.8520390070921986\n",
      "CPU times: user 3.22 s, sys: 133 ms, total: 3.36 s\n",
      "Wall time: 5.38 s\n"
     ]
    }
   ],
   "source": [
    "%%time\n",
    "\n",
    "warnings.filterwarnings('ignore')\n",
    "\n",
    "# Logistic Regression model\n",
    "log_reg = LogisticRegression()\n",
    "hyperparameters = {\n",
    "    'penalty': ['l1', 'l2', 'elasticnet', 'None'],\n",
    "    'C': [0.001, 0.01, 0.1, 1, 10, 100],\n",
    "    'fit_intercept': [True, False],\n",
    "    'solver': ['newton-cg', 'lbfgs', 'liblinear', 'sag', 'saga'],\n",
    "    'max_iter': [100,250 ,500, 1000],\n",
    "    'tol': [1e-6, 1e-5, 1e-4, 1e-3],\n",
    "    'class_weight': [None, 'balanced']\n",
    "}\n",
    "grid_log_reg = GridSearchCV(log_reg, hyperparameters, cv=5, n_jobs=-1)\n",
    "grid_log_reg.fit(X_train, y_train)\n",
    "best_params_log_reg=grid_log_reg.best_params_\n",
    "print(\"Best Logistic Regression parameters:\", grid_log_reg.best_params_)\n",
    "print(\"Best Logistic Regression score:\", grid_log_reg.best_score_)"
   ]
  },
  {
   "cell_type": "code",
   "execution_count": 25,
   "id": "2d3cdc62",
   "metadata": {},
   "outputs": [
    {
     "name": "stdout",
     "output_type": "stream",
     "text": [
      "confussion matrix\n",
      "[[25  5]\n",
      " [ 8 22]]\n",
      "\n",
      "\n",
      "Accuracy of Logistic Regression: 78.33333333333333 \n",
      "\n",
      "              precision    recall  f1-score   support\n",
      "\n",
      "           0       0.76      0.83      0.79        30\n",
      "           1       0.81      0.73      0.77        30\n",
      "\n",
      "    accuracy                           0.78        60\n",
      "   macro avg       0.79      0.78      0.78        60\n",
      "weighted avg       0.79      0.78      0.78        60\n",
      "\n"
     ]
    }
   ],
   "source": [
    "best_log_reg = LogisticRegression(**best_params_log_reg)\n",
    "best_log_reg.fit(X_train, y_train)\n",
    "y_predicted = best_log_reg.predict(X_test)\n",
    "\n",
    "best_log_reg_conf_matrix = confusion_matrix(y_test, y_predicted)\n",
    "best_log_reg_acc_score = accuracy_score(y_test, y_predicted)\n",
    "print(\"confussion matrix\")\n",
    "print(best_log_reg_conf_matrix)\n",
    "print(\"\\n\")\n",
    "print(\"Accuracy of Logistic Regression:\",best_log_reg_acc_score*100,'\\n')\n",
    "print(classification_report(y_test,y_predicted))"
   ]
  },
  {
   "cell_type": "code",
   "execution_count": 26,
   "id": "5ce5f2e4",
   "metadata": {},
   "outputs": [
    {
     "data": {
      "image/png": "[encoded data removed]",
      "text/plain": [
       "<Figure size 432x288 with 1 Axes>"
      ]
     },
     "metadata": {
      "needs_background": "light"
     },
     "output_type": "display_data"
    }
   ],
   "source": [
    "#Using a cross validation to predict the probabilities of the training data\n",
    "best_log_reg_proba_cv = cross_val_predict(best_log_reg, X_train, y_train,method='predict_proba', cv=5)\n",
    "\n",
    "#Choosing the second column containing the predicted probabilities\n",
    "y_train_cv_score_best_log_reg = best_log_reg_proba_cv[:, 1]\n",
    "\n",
    "#getting the rates and tresholds\n",
    "fpr, tpr, thresholds = roc_curve(y_train, y_train_cv_score_best_log_reg)\n",
    "\n",
    "#plotting the ROC Curve using fpr and tpr values\n",
    "plt.plot(fpr, tpr, color='orange', linewidth=2) \n",
    "plt.plot([0, 1], [0, 1], color='navy', lw=1, linestyle='--')\n",
    "plt.title('ROC Curve (Training Data)')\n",
    "plt.xlabel('False Positive Rate')\n",
    "plt.ylabel('True Positive Rate')\n",
    "\n",
    "plt.show()"
   ]
  },
  {
   "cell_type": "code",
   "execution_count": 27,
   "id": "431b5fea",
   "metadata": {},
   "outputs": [
    {
     "data": {
      "text/plain": [
       "0.9178289000718907"
      ]
     },
     "execution_count": 27,
     "metadata": {},
     "output_type": "execute_result"
    }
   ],
   "source": [
    "#Area under ROC curve\n",
    "roc_auc_score(y_train, y_train_cv_score_best_log_reg)"
   ]
  },
  {
   "cell_type": "code",
   "execution_count": 28,
   "id": "983c93db",
   "metadata": {},
   "outputs": [
    {
     "name": "stdout",
     "output_type": "stream",
     "text": [
      "Training score: 0.8776371308016878\n",
      "Test score: 0.7833333333333333\n",
      "Cross-validated scores: [0.85       0.75       0.88135593 0.83050847 0.83050847]\n",
      "Mean cross-validated score: 0.8284745762711865\n"
     ]
    }
   ],
   "source": [
    "best_log_reg.fit(X_train, y_train)\n",
    "\n",
    "train_score = best_log_reg.score(X_train, y_train)\n",
    "test_score = best_log_reg.score(X_test, y_test)\n",
    "\n",
    "cv_scores = cross_val_score(best_log_reg, X, y, cv=5)  # 5-fold cross-validation\n",
    "mean_cv_score = cv_scores.mean()\n",
    "\n",
    "print(\"Training score:\", train_score)\n",
    "print(\"Test score:\", test_score)\n",
    "print(\"Cross-validated scores:\", cv_scores)\n",
    "print(\"Mean cross-validated score:\", mean_cv_score)"
   ]
  },
  {
   "cell_type": "markdown",
   "id": "ed907ad0",
   "metadata": {},
   "source": [
    "### Naive Bayes"
   ]
  },
  {
   "cell_type": "code",
   "execution_count": 29,
   "id": "9c87036b",
   "metadata": {},
   "outputs": [],
   "source": [
    "from sklearn.preprocessing import MinMaxScaler\n",
    "#nomalizing data for the multinomial distribution as it does not take negatives\n",
    "scaler = MinMaxScaler()\n",
    "scaler.fit(X_train)\n",
    "X_train_normalized = scaler.transform(X_train)\n",
    "X_test_normalized = scaler.transform(X_test)"
   ]
  },
  {
   "cell_type": "code",
   "execution_count": 30,
   "id": "1ed49420",
   "metadata": {},
   "outputs": [
    {
     "name": "stdout",
     "output_type": "stream",
     "text": [
      "Best Naive Bayes model: GaussianNB\n"
     ]
    }
   ],
   "source": [
    "models = {'GaussianNB': GaussianNB(),\n",
    "          'MultinomialNB':MultinomialNB(),\n",
    "          'BernoulliNB': BernoulliNB()}\n",
    "best_nb_model = None\n",
    "best_nb_score = 0\n",
    "for name, model in models.items():\n",
    "    score = np.mean(cross_val_score(model, X_train_normalized, y_train, cv=5))\n",
    "    if score > best_nb_score:\n",
    "        best_nb_score = score\n",
    "        best_nb_model = name\n",
    "print(\"Best Naive Bayes model:\", best_nb_model)"
   ]
  },
  {
   "cell_type": "code",
   "execution_count": 31,
   "id": "af385869",
   "metadata": {},
   "outputs": [
    {
     "name": "stdout",
     "output_type": "stream",
     "text": [
      "Fitting 5 folds for each of 100 candidates, totalling 500 fits\n",
      "Best Naive Bayes  parameters: {'var_smoothing': 0.533669923120631}\n",
      "Best Naive Bayes score (accuracy): 0.8351950354609929\n",
      "\n",
      "\n"
     ]
    }
   ],
   "source": [
    "hyperparameters = {'var_smoothing': np.logspace(0,-9, num=100)}\n",
    "\n",
    "gnb = GaussianNB()\n",
    "\n",
    "grid_gnb = GridSearchCV(gnb, hyperparameters, scoring='accuracy', cv=5, verbose=1, n_jobs=-1)\n",
    "grid_gnb.fit(X_train, y_train)\n",
    "\n",
    "best_params_gnb = grid_gnb.best_params_\n",
    "\n",
    "print(\"Best Naive Bayes  parameters:\", best_params_gnb)\n",
    "print(\"Best Naive Bayes score (accuracy):\", grid_gnb.best_score_)\n",
    "print(\"\\n\")"
   ]
  },
  {
   "cell_type": "code",
   "execution_count": 32,
   "id": "153ec6d1",
   "metadata": {},
   "outputs": [
    {
     "name": "stdout",
     "output_type": "stream",
     "text": [
      "confussion matrix\n",
      "[[28  2]\n",
      " [ 7 23]]\n",
      "\n",
      "\n",
      "Accuracy of Naive Bayes: 85.0 \n",
      "\n",
      "              precision    recall  f1-score   support\n",
      "\n",
      "           0       0.80      0.93      0.86        30\n",
      "           1       0.92      0.77      0.84        30\n",
      "\n",
      "    accuracy                           0.85        60\n",
      "   macro avg       0.86      0.85      0.85        60\n",
      "weighted avg       0.86      0.85      0.85        60\n",
      "\n"
     ]
    }
   ],
   "source": [
    "best_gnb = GaussianNB(**best_params_gnb)\n",
    "best_gnb.fit(X_train, y_train)\n",
    "y_predicted_gnb = best_gnb.predict(X_test)\n",
    "\n",
    "best_gnb_conf_matrix = confusion_matrix(y_test, y_predicted_gnb)\n",
    "best_gnb_acc_score = accuracy_score(y_test, y_predicted_gnb)\n",
    "print(\"confussion matrix\")\n",
    "print(best_gnb_conf_matrix)\n",
    "print(\"\\n\")\n",
    "print(\"Accuracy of Naive Bayes:\",best_gnb_acc_score*100,'\\n')\n",
    "print(classification_report(y_test,y_predicted_gnb))"
   ]
  },
  {
   "cell_type": "code",
   "execution_count": 33,
   "id": "d9fb701c",
   "metadata": {},
   "outputs": [
    {
     "data": {
      "image/png": "[encoded data removed]",
      "text/plain": [
       "<Figure size 432x288 with 1 Axes>"
      ]
     },
     "metadata": {
      "needs_background": "light"
     },
     "output_type": "display_data"
    }
   ],
   "source": [
    "#Using a cross validation to predict the probabilities of the training data\n",
    "best_gnb_proba_cv = cross_val_predict(best_gnb, X_train, y_train,method='predict_proba', cv=5)\n",
    "\n",
    "#Choosing the second column containing the predicted probabilities\n",
    "y_train_cv_score_best_gnb = best_gnb_proba_cv[:, 1]\n",
    "\n",
    "#getting the rates and tresholds\n",
    "fpr, tpr, thresholds = roc_curve(y_train, y_train_cv_score_best_gnb)\n",
    "\n",
    "#plotting the ROC Curve using fpr and tpr values\n",
    "plt.plot(fpr, tpr, color='orange', linewidth=2) \n",
    "plt.plot([0, 1], [0, 1], color='navy', lw=1, linestyle='--')\n",
    "plt.title('ROC Curve (Training Data)')\n",
    "plt.xlabel('False Positive Rate')\n",
    "plt.ylabel('True Positive Rate')\n",
    "\n",
    "plt.show()"
   ]
  },
  {
   "cell_type": "code",
   "execution_count": 34,
   "id": "9667f4f7",
   "metadata": {},
   "outputs": [
    {
     "data": {
      "text/plain": [
       "0.9087706685837527"
      ]
     },
     "execution_count": 34,
     "metadata": {},
     "output_type": "execute_result"
    }
   ],
   "source": [
    "#Area under ROC curve\n",
    "roc_auc_score(y_train, y_train_cv_score_best_gnb)"
   ]
  },
  {
   "cell_type": "code",
   "execution_count": 35,
   "id": "9efd3da5",
   "metadata": {},
   "outputs": [
    {
     "name": "stdout",
     "output_type": "stream",
     "text": [
      "Training score: 0.8481012658227848\n",
      "Test score: 0.85\n",
      "Cross-validated scores: [0.63333333 0.66666667 0.69491525 0.57627119 0.59322034]\n",
      "Mean cross-validated score: 0.6328813559322034\n"
     ]
    }
   ],
   "source": [
    "best_gnb.fit(X_train, y_train)\n",
    "\n",
    "gnb_train_score = best_gnb.score(X_train, y_train)\n",
    "gnb_test_score = best_gnb.score(X_test, y_test)\n",
    "gnb_cv_scores = cross_val_score(best_gnb, X, y, cv=5)  # 5-fold cross-validation\n",
    "gnb_mean_cv_score = gnb_cv_scores.mean()\n",
    "\n",
    "print(\"Training score:\", gnb_train_score)\n",
    "print(\"Test score:\", gnb_test_score)\n",
    "print(\"Cross-validated scores:\", gnb_cv_scores)\n",
    "print(\"Mean cross-validated score:\", gnb_mean_cv_score)"
   ]
  },
  {
   "cell_type": "markdown",
   "id": "62d32043",
   "metadata": {},
   "source": [
    "## SVM"
   ]
  },
  {
   "cell_type": "code",
   "execution_count": 36,
   "id": "4a6962a0",
   "metadata": {},
   "outputs": [
    {
     "name": "stdout",
     "output_type": "stream",
     "text": [
      "Best SVM parameters: {'C': 0.1, 'gamma': 'scale', 'kernel': 'sigmoid'}\n",
      "Best SVM score: 0.8603723404255319\n",
      "CPU times: user 464 ms, sys: 7.46 ms, total: 472 ms\n",
      "Wall time: 211 ms\n"
     ]
    }
   ],
   "source": [
    "%%time\n",
    "warnings.filterwarnings('ignore')\n",
    "\n",
    "# Support Vector Machines model\n",
    "hyperparameters = {'C': [0.001,0.01,0.1, 1,10, 100],\n",
    "'kernel': ['linear', 'rbf', 'poly', 'sigmoid'],\n",
    "'gamma': ['scale', 'auto']}\n",
    "svm=SVC()\n",
    "grid_svm = GridSearchCV(svm, hyperparameters, cv=5, n_jobs=-1)\n",
    "grid_svm.fit(X_train, y_train)\n",
    "best_params_svm=grid_svm.best_params_\n",
    "print(\"Best SVM parameters:\", grid_svm.best_params_)\n",
    "print(\"Best SVM score:\", grid_svm.best_score_)"
   ]
  },
  {
   "cell_type": "code",
   "execution_count": 37,
   "id": "0bd2b434",
   "metadata": {},
   "outputs": [
    {
     "name": "stdout",
     "output_type": "stream",
     "text": [
      "confussion matrix\n",
      "[[28  2]\n",
      " [ 8 22]]\n",
      "\n",
      "\n",
      "Accuracy of SVM: 83.33333333333334 \n",
      "\n",
      "              precision    recall  f1-score   support\n",
      "\n",
      "           0       0.78      0.93      0.85        30\n",
      "           1       0.92      0.73      0.81        30\n",
      "\n",
      "    accuracy                           0.83        60\n",
      "   macro avg       0.85      0.83      0.83        60\n",
      "weighted avg       0.85      0.83      0.83        60\n",
      "\n"
     ]
    }
   ],
   "source": [
    "#testing model with optimal parameters\n",
    "best_svm = SVC(**best_params_svm,probability=True)\n",
    "\n",
    "best_svm.fit(X_train, y_train)\n",
    "y_predicted_svm = best_svm.predict(X_test)\n",
    "\n",
    "best_svm_conf_matrix = confusion_matrix(y_test, y_predicted_svm)\n",
    "best_svm_acc_score = accuracy_score(y_test, y_predicted_svm)\n",
    "print(\"confussion matrix\")\n",
    "print(best_svm_conf_matrix)\n",
    "print(\"\\n\")\n",
    "print(\"Accuracy of SVM:\",best_svm_acc_score*100,'\\n')\n",
    "print(classification_report(y_test,y_predicted_svm))"
   ]
  },
  {
   "cell_type": "code",
   "execution_count": 38,
   "id": "efc6356c",
   "metadata": {},
   "outputs": [
    {
     "data": {
      "image/png": "[encoded data removed]",
      "text/plain": [
       "<Figure size 432x288 with 1 Axes>"
      ]
     },
     "metadata": {
      "needs_background": "light"
     },
     "output_type": "display_data"
    }
   ],
   "source": [
    "#Using a cross validation to predict the probabilities of the training data\n",
    "best_svm_proba_cv = cross_val_predict(best_svm, X_train, y_train,method='predict_proba', cv=5)\n",
    "\n",
    "y_train_cv_proba_best_svm = best_svm_proba_cv[:, 1]\n",
    "\n",
    "#getting the rates and tresholds\n",
    "fpr, tpr, thresholds = roc_curve(y_train, y_train_cv_proba_best_svm)\n",
    "\n",
    "#plotting the ROC Curve using fpr and tpr values\n",
    "plt.plot(fpr, tpr, color='orange', linewidth=2) \n",
    "plt.plot([0, 1], [0, 1], color='navy', lw=1, linestyle='--')\n",
    "plt.title('ROC Curve (Training Data)')\n",
    "plt.xlabel('False Positive Rate')\n",
    "plt.ylabel('True Positive Rate')\n",
    "\n",
    "plt.show()"
   ]
  },
  {
   "cell_type": "code",
   "execution_count": 39,
   "id": "5ab7507e",
   "metadata": {},
   "outputs": [
    {
     "data": {
      "text/plain": [
       "0.9074047447879222"
      ]
     },
     "execution_count": 39,
     "metadata": {},
     "output_type": "execute_result"
    }
   ],
   "source": [
    "# Area under ROC curve\n",
    "roc_auc_score(y_train, y_train_cv_proba_best_svm)"
   ]
  },
  {
   "cell_type": "code",
   "execution_count": 40,
   "id": "bfec034c",
   "metadata": {},
   "outputs": [
    {
     "name": "stdout",
     "output_type": "stream",
     "text": [
      "Training score: 0.8607594936708861\n",
      "Test score: 0.8333333333333334\n",
      "Cross-validated scores: [0.53333333 0.53333333 0.54237288 0.54237288 0.54237288]\n",
      "Mean cross-validated score: 0.5387570621468927\n"
     ]
    }
   ],
   "source": [
    "best_svm.fit(X_train, y_train)\n",
    "\n",
    "svm_train_score = best_svm.score(X_train, y_train)\n",
    "svm_test_score = best_svm.score(X_test, y_test)\n",
    "svm_cv_scores = cross_val_score(best_svm, X, y, cv=5)\n",
    "svm_mean_cv_score = svm_cv_scores.mean()\n",
    "\n",
    "print(\"Training score:\", svm_train_score)\n",
    "print(\"Test score:\", svm_test_score)\n",
    "print(\"Cross-validated scores:\", svm_cv_scores)\n",
    "print(\"Mean cross-validated score:\", svm_mean_cv_score)"
   ]
  },
  {
   "cell_type": "markdown",
   "id": "c08357ad",
   "metadata": {},
   "source": [
    "## Decision Tree"
   ]
  },
  {
   "cell_type": "code",
   "execution_count": 41,
   "id": "4bc978a4",
   "metadata": {},
   "outputs": [
    {
     "name": "stdout",
     "output_type": "stream",
     "text": [
      "Best Decision Tree parameters: {'criterion': 'entropy', 'max_depth': None, 'max_features': 'log2', 'max_leaf_nodes': 15, 'min_impurity_decrease': 0.0, 'min_samples_leaf': 2, 'min_samples_split': 5, 'splitter': 'random'}\n",
      "Best Decision Tree score: 0.8355496453900709\n",
      "CPU times: user 26.1 s, sys: 466 ms, total: 26.6 s\n",
      "Wall time: 31.6 s\n"
     ]
    }
   ],
   "source": [
    "%%time\n",
    "warnings.filterwarnings('ignore')\n",
    "#Decision Tree Model\n",
    "dtc=DecisionTreeClassifier()\n",
    "hyperparameters ={\n",
    "    \"max_depth\": [2, 4, 6, 8, 10, None],\n",
    "    \"min_samples_split\": [2, 5, 10, 15, 20],\n",
    "    \"min_samples_leaf\": [1, 2, 5, 10, 15],\n",
    "    \"max_features\": [int, float, \"sqrt\", \"log2\", None],\n",
    "    \"criterion\": [\"gini\", \"entropy\"],\n",
    "    \"splitter\": [\"best\", \"random\"],\n",
    "    \"max_leaf_nodes\": [None, 5, 10, 15, 20],\n",
    "    \"min_impurity_decrease\": [0.0, 0.1, 0.2, 0.3, 0.4]\n",
    "}\n",
    "grid_dtc = GridSearchCV(dtc, hyperparameters, cv=5, n_jobs=-1)\n",
    "grid_dtc.fit(X_train, y_train)\n",
    "best_params_dtc=grid_dtc.best_params_\n",
    "print(\"Best Decision Tree parameters:\", grid_dtc.best_params_)\n",
    "print(\"Best Decision Tree score:\", grid_dtc.best_score_)"
   ]
  },
  {
   "cell_type": "code",
   "execution_count": 42,
   "id": "c604417b",
   "metadata": {},
   "outputs": [
    {
     "name": "stdout",
     "output_type": "stream",
     "text": [
      "confussion matrix\n",
      "[[26  4]\n",
      " [10 20]]\n",
      "\n",
      "\n",
      "Accuracy of Decision Tree Clasifier: 76.66666666666667 \n",
      "\n",
      "              precision    recall  f1-score   support\n",
      "\n",
      "           0       0.72      0.87      0.79        30\n",
      "           1       0.83      0.67      0.74        30\n",
      "\n",
      "    accuracy                           0.77        60\n",
      "   macro avg       0.78      0.77      0.76        60\n",
      "weighted avg       0.78      0.77      0.76        60\n",
      "\n",
      "Confusion Matrix:\n",
      "      Predicted\n",
      "       +   -\n",
      "True  + 20 10\n",
      "      - 4 26\n"
     ]
    }
   ],
   "source": [
    "#testing model with optimal parameters\n",
    "best_dtc = DecisionTreeClassifier(**best_params_dtc)\n",
    "\n",
    "best_dtc.fit(X_train, y_train)\n",
    "y_predicted_dtc = best_dtc.predict(X_test)\n",
    "\n",
    "best_dtc_conf_matrix = confusion_matrix(y_test, y_predicted_dtc)\n",
    "best_dtc_acc_score = accuracy_score(y_test, y_predicted_dtc)\n",
    "print(\"confussion matrix\")\n",
    "print(best_dtc_conf_matrix)\n",
    "print(\"\\n\")\n",
    "print(\"Accuracy of Decision Tree Clasifier:\",best_dtc_acc_score*100,'\\n')\n",
    "print(classification_report(y_test,y_predicted_dtc))\n",
    "\n",
    "tn, fp, fn, tp = best_dtc_conf_matrix.ravel()\n",
    "\n",
    "print(\"Confusion Matrix:\")\n",
    "print(\"      Predicted\")\n",
    "print(\"       +   -\")\n",
    "print(f\"True  + {tp} {fn}\")\n",
    "print(f\"      - {fp} {tn}\")"
   ]
  },
  {
   "cell_type": "code",
   "execution_count": 43,
   "id": "627e2051",
   "metadata": {},
   "outputs": [
    {
     "data": {
      "image/png": "[encoded data removed]",
      "text/plain": [
       "<Figure size 432x288 with 1 Axes>"
      ]
     },
     "metadata": {
      "needs_background": "light"
     },
     "output_type": "display_data"
    }
   ],
   "source": [
    "#Using a cross validation to predict the probabilities of the training data\n",
    "best_dtc_proba_cv = cross_val_predict(best_dtc, X_train, y_train,method='predict_proba', cv=5)\n",
    "\n",
    "#Choosing the second column containing the predicted probabilities\n",
    "#\n",
    "#Remember to update the names of the prior variables as y_train_cv_proba_best_svm-> from y_train_cv_scores_best_svm\n",
    "#\n",
    "y_train_cv_proba_best_dtc = best_dtc_proba_cv[:, 1]\n",
    "\n",
    "#getting the rates and tresholds\n",
    "fpr, tpr, thresholds = roc_curve(y_train, y_train_cv_proba_best_dtc)\n",
    "\n",
    "#plotting the ROC Curve using fpr and tpr values\n",
    "plt.plot(fpr, tpr, color='orange', linewidth=2) \n",
    "plt.plot([0, 1], [0, 1], color='navy', lw=1, linestyle='--')\n",
    "plt.title('ROC Curve (Training Data)')\n",
    "plt.xlabel('False Positive Rate')\n",
    "plt.ylabel('True Positive Rate')\n",
    "\n",
    "plt.show()"
   ]
  },
  {
   "cell_type": "code",
   "execution_count": 44,
   "id": "f012254c",
   "metadata": {},
   "outputs": [
    {
     "data": {
      "text/plain": [
       "0.7335729690869878"
      ]
     },
     "execution_count": 44,
     "metadata": {},
     "output_type": "execute_result"
    }
   ],
   "source": [
    "# Area under ROC curve\n",
    "roc_auc_score(y_train, y_train_cv_proba_best_dtc)"
   ]
  },
  {
   "cell_type": "code",
   "execution_count": 45,
   "id": "383862ca",
   "metadata": {},
   "outputs": [
    {
     "name": "stdout",
     "output_type": "stream",
     "text": [
      "Training score: 0.810126582278481\n",
      "Test score: 0.75\n",
      "Cross-validated scores: [0.76666667 0.68333333 0.83050847 0.76271186 0.81355932]\n",
      "Mean cross-validated score: 0.7713559322033899\n"
     ]
    }
   ],
   "source": [
    "best_dtc.fit(X_train, y_train)\n",
    "dtc_train_score = best_dtc.score(X_train, y_train)\n",
    "dtc_test_score = best_dtc.score(X_test, y_test)\n",
    "dtc_cv_scores = cross_val_score(best_dtc, X, y, cv=5)\n",
    "dtc_mean_cv_score = dtc_cv_scores.mean()\n",
    "\n",
    "print(\"Training score:\", dtc_train_score)\n",
    "print(\"Test score:\", dtc_test_score)\n",
    "print(\"Cross-validated scores:\", dtc_cv_scores)\n",
    "print(\"Mean cross-validated score:\", dtc_mean_cv_score)"
   ]
  },
  {
   "cell_type": "markdown",
   "id": "1bfb40f6",
   "metadata": {},
   "source": [
    "## KNN"
   ]
  },
  {
   "cell_type": "code",
   "execution_count": 46,
   "id": "fb0b3b6a",
   "metadata": {},
   "outputs": [
    {
     "name": "stdout",
     "output_type": "stream",
     "text": [
      "Best KNN parameters: {'algorithm': 'ball_tree', 'leaf_size': 10, 'n_neighbors': 11, 'p': 2, 'weights': 'distance'}\n",
      "Best KNN score: 0.8602836879432625\n",
      "CPU times: user 561 ms, sys: 29.1 ms, total: 590 ms\n",
      "Wall time: 406 ms\n"
     ]
    }
   ],
   "source": [
    "%%time\n",
    "warnings.filterwarnings('ignore')\n",
    "\n",
    "# KNN Model\n",
    "knn = KNeighborsClassifier()\n",
    "hyperparameters = {\n",
    "    'n_neighbors': [1, 3, 5, 7, 9, 11],\n",
    "    'weights': ['uniform', 'distance'],\n",
    "    'algorithm': ['ball_tree', 'kd_tree', 'brute'],\n",
    "    'leaf_size': [10, 20, 30, 40],\n",
    "    'p': [1, 2]\n",
    "}\n",
    "grid_knn = GridSearchCV(knn, hyperparameters, cv=5, n_jobs=-1)\n",
    "grid_knn.fit(X_train, y_train)\n",
    "best_params_knn=grid_knn.best_params_\n",
    "print(\"Best KNN parameters:\", grid_knn.best_params_)\n",
    "print(\"Best KNN score:\", grid_knn.best_score_)"
   ]
  },
  {
   "cell_type": "code",
   "execution_count": 47,
   "id": "998201c0",
   "metadata": {},
   "outputs": [
    {
     "name": "stdout",
     "output_type": "stream",
     "text": [
      "confussion matrix\n",
      "[[25  5]\n",
      " [ 8 22]]\n",
      "\n",
      "\n",
      "Accuracy of KNN Clasifier: 78.33333333333333 \n",
      "\n",
      "              precision    recall  f1-score   support\n",
      "\n",
      "           0       0.72      0.87      0.79        30\n",
      "           1       0.83      0.67      0.74        30\n",
      "\n",
      "    accuracy                           0.77        60\n",
      "   macro avg       0.78      0.77      0.76        60\n",
      "weighted avg       0.78      0.77      0.76        60\n",
      "\n",
      "Confusion Matrix:\n",
      "      Predicted\n",
      "       +   -\n",
      "True  + 22 8\n",
      "      - 5 25\n"
     ]
    }
   ],
   "source": [
    "#testing model with optimal parameters\n",
    "best_knn = KNeighborsClassifier(**best_params_knn)\n",
    "\n",
    "best_knn.fit(X_train, y_train)\n",
    "y_predicted_knn = best_knn.predict(X_test)\n",
    "\n",
    "best_knn_conf_matrix = confusion_matrix(y_test, y_predicted_knn)\n",
    "best_knn_acc_score = accuracy_score(y_test, y_predicted_knn)\n",
    "print(\"confussion matrix\")\n",
    "print(best_knn_conf_matrix)\n",
    "print(\"\\n\")\n",
    "print(\"Accuracy of KNN Clasifier:\",best_knn_acc_score*100,'\\n')\n",
    "print(classification_report(y_test,y_predicted_dtc))\n",
    "\n",
    "tn, fp, fn, tp = best_knn_conf_matrix.ravel()\n",
    "\n",
    "print(\"Confusion Matrix:\")\n",
    "print(\"      Predicted\")\n",
    "print(\"       +   -\")\n",
    "print(f\"True  + {tp} {fn}\")\n",
    "print(f\"      - {fp} {tn}\")"
   ]
  },
  {
   "cell_type": "code",
   "execution_count": 48,
   "id": "cd667b02",
   "metadata": {},
   "outputs": [
    {
     "data": {
      "image/png": "[encoded data removed]",
      "text/plain": [
       "<Figure size 432x288 with 1 Axes>"
      ]
     },
     "metadata": {
      "needs_background": "light"
     },
     "output_type": "display_data"
    }
   ],
   "source": [
    "#Using a cross validation to predict the probabilities of the training data\n",
    "best_knn_proba_cv = cross_val_predict(best_knn, X_train, y_train,method='predict_proba', cv=5)\n",
    "\n",
    "y_train_cv_proba_best_knn = best_knn_proba_cv[:, 1]\n",
    "\n",
    "#getting the rates and tresholds\n",
    "fpr, tpr, thresholds = roc_curve(y_train, y_train_cv_proba_best_knn)\n",
    "\n",
    "#plotting the ROC Curve using fpr and tpr values\n",
    "plt.plot(fpr, tpr, color='orange', linewidth=2) \n",
    "plt.plot([0, 1], [0, 1], color='navy', lw=1, linestyle='--')\n",
    "plt.title('ROC Curve (Training Data)')\n",
    "plt.xlabel('False Positive Rate')\n",
    "plt.ylabel('True Positive Rate')\n",
    "\n",
    "plt.show()"
   ]
  },
  {
   "cell_type": "code",
   "execution_count": 49,
   "id": "ca6b6c9f",
   "metadata": {},
   "outputs": [
    {
     "data": {
      "text/plain": [
       "0.9105679367361611"
      ]
     },
     "execution_count": 49,
     "metadata": {},
     "output_type": "execute_result"
    }
   ],
   "source": [
    "# Area under ROC curve\n",
    "roc_auc_score(y_train, y_train_cv_proba_best_knn)"
   ]
  },
  {
   "cell_type": "code",
   "execution_count": 50,
   "id": "17486eed",
   "metadata": {},
   "outputs": [
    {
     "name": "stdout",
     "output_type": "stream",
     "text": [
      "Training score: 1.0\n",
      "Test score: 0.7833333333333333\n",
      "Cross-validated scores: [0.73333333 0.68333333 0.6440678  0.57627119 0.57627119]\n",
      "Mean cross-validated score: 0.6426553672316384\n"
     ]
    }
   ],
   "source": [
    "best_knn.fit(X_train, y_train)\n",
    "knn_train_score = best_knn.score(X_train, y_train)\n",
    "knn_test_score = best_knn.score(X_test, y_test)\n",
    "knn_cv_scores = cross_val_score(best_knn, X, y, cv=5)  # 5-fold cross-validation\n",
    "knn_mean_cv_score = knn_cv_scores.mean()\n",
    "\n",
    "print(\"Training score:\", knn_train_score)\n",
    "print(\"Test score:\", knn_test_score)\n",
    "print(\"Cross-validated scores:\", knn_cv_scores)\n",
    "print(\"Mean cross-validated score:\", knn_mean_cv_score)"
   ]
  },
  {
   "cell_type": "markdown",
   "id": "546421f6",
   "metadata": {},
   "source": [
    "### Evaluating Models"
   ]
  },
  {
   "cell_type": "code",
   "execution_count": 51,
   "id": "b9eefc11",
   "metadata": {},
   "outputs": [
    {
     "name": "stdout",
     "output_type": "stream",
     "text": [
      "Accuracy of Logistic Regression: 78.33333333333333 \n",
      "\n",
      "              precision    recall  f1-score   support\n",
      "\n",
      "           0       0.76      0.83      0.79        30\n",
      "           1       0.81      0.73      0.77        30\n",
      "\n",
      "    accuracy                           0.78        60\n",
      "   macro avg       0.79      0.78      0.78        60\n",
      "weighted avg       0.79      0.78      0.78        60\n",
      "\n"
     ]
    }
   ],
   "source": [
    "print(\"Accuracy of Logistic Regression:\",best_log_reg_acc_score*100,'\\n')\n",
    "print(classification_report(y_test,y_predicted))"
   ]
  },
  {
   "cell_type": "code",
   "execution_count": 52,
   "id": "075086cf",
   "metadata": {},
   "outputs": [
    {
     "name": "stdout",
     "output_type": "stream",
     "text": [
      "Accuracy of Naive Bayes: 85.0 \n",
      "\n",
      "              precision    recall  f1-score   support\n",
      "\n",
      "           0       0.80      0.93      0.86        30\n",
      "           1       0.92      0.77      0.84        30\n",
      "\n",
      "    accuracy                           0.85        60\n",
      "   macro avg       0.86      0.85      0.85        60\n",
      "weighted avg       0.86      0.85      0.85        60\n",
      "\n"
     ]
    }
   ],
   "source": [
    "print(\"Accuracy of Naive Bayes:\",best_gnb_acc_score*100,'\\n')\n",
    "print(classification_report(y_test,y_predicted_gnb))"
   ]
  },
  {
   "cell_type": "code",
   "execution_count": 53,
   "id": "83334049",
   "metadata": {},
   "outputs": [
    {
     "name": "stdout",
     "output_type": "stream",
     "text": [
      "Accuracy of Support Vector Machines: 83.33333333333334 \n",
      "\n",
      "              precision    recall  f1-score   support\n",
      "\n",
      "           0       0.78      0.93      0.85        30\n",
      "           1       0.92      0.73      0.81        30\n",
      "\n",
      "    accuracy                           0.83        60\n",
      "   macro avg       0.85      0.83      0.83        60\n",
      "weighted avg       0.85      0.83      0.83        60\n",
      "\n"
     ]
    }
   ],
   "source": [
    "print(\"Accuracy of Support Vector Machines:\",best_svm_acc_score*100,'\\n')\n",
    "print(classification_report(y_test,y_predicted_svm))"
   ]
  },
  {
   "cell_type": "code",
   "execution_count": 54,
   "id": "412a490d",
   "metadata": {},
   "outputs": [
    {
     "name": "stdout",
     "output_type": "stream",
     "text": [
      "Accuracy of Decision Tree: 76.66666666666667 \n",
      "\n",
      "              precision    recall  f1-score   support\n",
      "\n",
      "           0       0.72      0.87      0.79        30\n",
      "           1       0.83      0.67      0.74        30\n",
      "\n",
      "    accuracy                           0.77        60\n",
      "   macro avg       0.78      0.77      0.76        60\n",
      "weighted avg       0.78      0.77      0.76        60\n",
      "\n"
     ]
    }
   ],
   "source": [
    "print(\"Accuracy of Decision Tree:\",best_dtc_acc_score*100,'\\n')\n",
    "print(classification_report(y_test,y_predicted_dtc))"
   ]
  },
  {
   "cell_type": "code",
   "execution_count": 55,
   "id": "66f8ff0f",
   "metadata": {},
   "outputs": [
    {
     "name": "stdout",
     "output_type": "stream",
     "text": [
      "Accuracy of KNN: 78.33333333333333 \n",
      "\n",
      "              precision    recall  f1-score   support\n",
      "\n",
      "           0       0.76      0.83      0.79        30\n",
      "           1       0.81      0.73      0.77        30\n",
      "\n",
      "    accuracy                           0.78        60\n",
      "   macro avg       0.79      0.78      0.78        60\n",
      "weighted avg       0.79      0.78      0.78        60\n",
      "\n"
     ]
    }
   ],
   "source": [
    "print(\"Accuracy of KNN:\",best_knn_acc_score*100,'\\n')\n",
    "print(classification_report(y_test,y_predicted_knn))"
   ]
  },
  {
   "cell_type": "markdown",
   "id": "c371a3d2",
   "metadata": {},
   "source": [
    "### Ensemble Model"
   ]
  },
  {
   "cell_type": "code",
   "execution_count": 76,
   "id": "687041f8",
   "metadata": {},
   "outputs": [
    {
     "name": "stdout",
     "output_type": "stream",
     "text": [
      "Stacking Classifier score: 83.33333333333334\n",
      "              precision    recall  f1-score   support\n",
      "\n",
      "           0       0.79      0.90      0.84        30\n",
      "           1       0.88      0.77      0.82        30\n",
      "\n",
      "    accuracy                           0.83        60\n",
      "   macro avg       0.84      0.83      0.83        60\n",
      "weighted avg       0.84      0.83      0.83        60\n",
      "\n",
      "Confusion Matrix:\n",
      "      Predicted\n",
      "       +   -\n",
      "True  + 22 8\n",
      "      - 5 25\n"
     ]
    }
   ],
   "source": [
    "estimators = [\n",
    "('log_reg', grid_log_reg.best_estimator_),\n",
    "('gnb', grid_gnb.best_estimator_),\n",
    "('svm', grid_svm.best_estimator_),\n",
    "('dtc', grid_dtc.best_estimator_),\n",
    "('knn', grid_knn.best_estimator_),  \n",
    "]\n",
    "stacking_classifier = StackingClassifier(estimators=estimators, final_estimator=LogisticRegression())\n",
    "stacking_classifier.fit(X_train, y_train)\n",
    "y_predicted_stacking=stacking_classifier.predict(X_test)\n",
    "\n",
    "stacking_score = stacking_classifier.score(X_test, y_test)\n",
    "print(\"Stacking Classifier score:\", stacking_score*100)\n",
    "print(classification_report(y_test,y_predicted_stacking))\n",
    "\n",
    "\n",
    "print(\"Confusion Matrix:\")\n",
    "print(\"      Predicted\")\n",
    "print(\"       +   -\")\n",
    "print(f\"True  + {tp} {fn}\")\n",
    "print(f\"      - {fp} {tn}\")"
   ]
  },
  {
   "cell_type": "code",
   "execution_count": 59,
   "id": "5dc5807f",
   "metadata": {},
   "outputs": [
    {
     "data": {
      "image/png": "[encoded data removed]",
      "text/plain": [
       "<Figure size 432x288 with 1 Axes>"
      ]
     },
     "metadata": {
      "needs_background": "light"
     },
     "output_type": "display_data"
    }
   ],
   "source": [
    "#Using a cross validation to predict the probabilities of the training data\n",
    "stacking_classifier_proba_cv = cross_val_predict(stacking_classifier, X_train, y_train,method='predict_proba', cv=5)\n",
    "\n",
    "y_train_cv_proba_stacking_classifier = best_dtc_proba_cv[:, 1]\n",
    "\n",
    "#getting the rates and tresholds\n",
    "fpr, tpr, thresholds = roc_curve(y_train, y_train_cv_proba_stacking_classifier)\n",
    "\n",
    "#plotting the ROC Curve using fpr and tpr values\n",
    "plt.plot(fpr, tpr, color='orange', linewidth=2) \n",
    "plt.plot([0, 1], [0, 1], color='navy', lw=1, linestyle='--')\n",
    "plt.title('ROC Curve (Training Data)')\n",
    "plt.xlabel('False Positive Rate')\n",
    "plt.ylabel('True Positive Rate')\n",
    "\n",
    "plt.show()"
   ]
  },
  {
   "cell_type": "code",
   "execution_count": 60,
   "id": "44ff8b27",
   "metadata": {},
   "outputs": [
    {
     "data": {
      "text/plain": [
       "0.7335729690869878"
      ]
     },
     "execution_count": 60,
     "metadata": {},
     "output_type": "execute_result"
    }
   ],
   "source": [
    "# Area under ROC curve\n",
    "roc_auc_score(y_train, y_train_cv_proba_stacking_classifier)"
   ]
  },
  {
   "cell_type": "code",
   "execution_count": 61,
   "id": "9d56cede",
   "metadata": {},
   "outputs": [
    {
     "name": "stdout",
     "output_type": "stream",
     "text": [
      "Training score: 0.9113924050632911\n",
      "Test score: 0.8333333333333334\n",
      "Cross-validated scores: [0.85       0.73333333 0.86440678 0.83050847 0.84745763]\n",
      "Mean cross-validated score: 0.8251412429378531\n"
     ]
    }
   ],
   "source": [
    "stacking_classifier.fit(X_train, y_train)\n",
    "stacking_classifier_train_score = stacking_classifier.score(X_train, y_train)\n",
    "stacking_classifier_test_score = stacking_classifier.score(X_test, y_test)\n",
    "stacking_classifier_cv_scores = cross_val_score(stacking_classifier, X, y, cv=5)  # 5-fold cross-validation\n",
    "stacking_classifier_mean_cv_score = stacking_classifier_cv_scores.mean()\n",
    "\n",
    "print(\"Training score:\", stacking_classifier_train_score)\n",
    "print(\"Test score:\", stacking_classifier_test_score)\n",
    "print(\"Cross-validated scores:\", stacking_classifier_cv_scores)\n",
    "print(\"Mean cross-validated score:\", stacking_classifier_mean_cv_score)"
   ]
  },
  {
   "cell_type": "markdown",
   "id": "0cded78f",
   "metadata": {},
   "source": [
    "### Multilayer Perceptron"
   ]
  },
  {
   "cell_type": "markdown",
   "id": "68188765",
   "metadata": {},
   "source": [
    "### Testing my MLP"
   ]
  },
  {
   "cell_type": "code",
   "execution_count": 62,
   "id": "5d2e5688",
   "metadata": {},
   "outputs": [
    {
     "data": {
      "text/plain": [
       "13"
      ]
     },
     "execution_count": 62,
     "metadata": {},
     "output_type": "execute_result"
    }
   ],
   "source": [
    "X_train.shape[1]"
   ]
  },
  {
   "cell_type": "code",
   "execution_count": 63,
   "id": "5a8d438a",
   "metadata": {},
   "outputs": [
    {
     "name": "stdout",
     "output_type": "stream",
     "text": [
      "Epoch 1/250\n",
      "24/24 [==============================] - 0s 614us/step - loss: 0.7059 - accuracy: 0.5738\n",
      "Epoch 2/250\n"
     ]
    },
    {
     "name": "stderr",
     "output_type": "stream",
     "text": [
      "2023-05-20 02:43:45.566182: W tensorflow/tsl/platform/profile_utils/cpu_utils.cc:128] Failed to get CPU frequency: 0 Hz\n"
     ]
    },
    {
     "name": "stdout",
     "output_type": "stream",
     "text": [
      "24/24 [==============================] - 0s 813us/step - loss: 0.5768 - accuracy: 0.6920\n",
      "Epoch 3/250\n",
      "24/24 [==============================] - 0s 610us/step - loss: 0.5211 - accuracy: 0.7511\n",
      "Epoch 4/250\n",
      "24/24 [==============================] - 0s 595us/step - loss: 0.4540 - accuracy: 0.8059\n",
      "Epoch 5/250\n",
      "24/24 [==============================] - 0s 529us/step - loss: 0.4376 - accuracy: 0.8312\n",
      "Epoch 6/250\n",
      "24/24 [==============================] - 0s 564us/step - loss: 0.4398 - accuracy: 0.7890\n",
      "Epoch 7/250\n",
      "24/24 [==============================] - 0s 540us/step - loss: 0.4313 - accuracy: 0.8059\n",
      "Epoch 8/250\n",
      "24/24 [==============================] - 0s 591us/step - loss: 0.4129 - accuracy: 0.8186\n",
      "Epoch 9/250\n",
      "24/24 [==============================] - 0s 597us/step - loss: 0.3929 - accuracy: 0.8397\n",
      "Epoch 10/250\n",
      "24/24 [==============================] - 0s 600us/step - loss: 0.4094 - accuracy: 0.8397\n",
      "Epoch 11/250\n",
      "24/24 [==============================] - 0s 591us/step - loss: 0.3762 - accuracy: 0.8312\n",
      "Epoch 12/250\n",
      "24/24 [==============================] - 0s 531us/step - loss: 0.3521 - accuracy: 0.8397\n",
      "Epoch 13/250\n",
      "24/24 [==============================] - 0s 497us/step - loss: 0.3854 - accuracy: 0.8481\n",
      "Epoch 14/250\n",
      "24/24 [==============================] - 0s 592us/step - loss: 0.3599 - accuracy: 0.8481\n",
      "Epoch 15/250\n",
      "24/24 [==============================] - 0s 578us/step - loss: 0.3662 - accuracy: 0.8523\n",
      "Epoch 16/250\n",
      "24/24 [==============================] - 0s 573us/step - loss: 0.3593 - accuracy: 0.8439\n",
      "Epoch 17/250\n",
      "24/24 [==============================] - 0s 558us/step - loss: 0.4037 - accuracy: 0.8270\n",
      "Epoch 18/250\n",
      "24/24 [==============================] - 0s 548us/step - loss: 0.3881 - accuracy: 0.8354\n",
      "Epoch 19/250\n",
      "24/24 [==============================] - 0s 546us/step - loss: 0.3336 - accuracy: 0.8439\n",
      "Epoch 20/250\n",
      "24/24 [==============================] - 0s 534us/step - loss: 0.3277 - accuracy: 0.8650\n",
      "Epoch 21/250\n",
      "24/24 [==============================] - 0s 548us/step - loss: 0.3515 - accuracy: 0.8565\n",
      "Epoch 22/250\n",
      "24/24 [==============================] - 0s 547us/step - loss: 0.3568 - accuracy: 0.8608\n",
      "Epoch 23/250\n",
      "24/24 [==============================] - 0s 532us/step - loss: 0.3492 - accuracy: 0.8776\n",
      "Epoch 24/250\n",
      "24/24 [==============================] - 0s 521us/step - loss: 0.3155 - accuracy: 0.8608\n",
      "Epoch 25/250\n",
      "24/24 [==============================] - 0s 558us/step - loss: 0.3296 - accuracy: 0.8608\n",
      "Epoch 26/250\n",
      "24/24 [==============================] - 0s 536us/step - loss: 0.3066 - accuracy: 0.8819\n",
      "Epoch 27/250\n",
      "24/24 [==============================] - 0s 529us/step - loss: 0.2772 - accuracy: 0.8987\n",
      "Epoch 28/250\n",
      "24/24 [==============================] - 0s 557us/step - loss: 0.3009 - accuracy: 0.8692\n",
      "Epoch 29/250\n",
      "24/24 [==============================] - 0s 576us/step - loss: 0.3217 - accuracy: 0.8608\n",
      "Epoch 30/250\n",
      "24/24 [==============================] - 0s 559us/step - loss: 0.2884 - accuracy: 0.8776\n",
      "Epoch 31/250\n",
      "24/24 [==============================] - 0s 537us/step - loss: 0.3419 - accuracy: 0.8692\n",
      "Epoch 32/250\n",
      "24/24 [==============================] - 0s 478us/step - loss: 0.2975 - accuracy: 0.8819\n",
      "Epoch 33/250\n",
      "24/24 [==============================] - 0s 585us/step - loss: 0.3119 - accuracy: 0.8565\n",
      "Epoch 34/250\n",
      "24/24 [==============================] - 0s 496us/step - loss: 0.3119 - accuracy: 0.8734\n",
      "Epoch 35/250\n",
      "24/24 [==============================] - 0s 524us/step - loss: 0.3140 - accuracy: 0.8650\n",
      "Epoch 36/250\n",
      "24/24 [==============================] - 0s 576us/step - loss: 0.3234 - accuracy: 0.8692\n",
      "Epoch 37/250\n",
      "24/24 [==============================] - 0s 540us/step - loss: 0.3193 - accuracy: 0.8776\n",
      "Epoch 38/250\n",
      "24/24 [==============================] - 0s 547us/step - loss: 0.2899 - accuracy: 0.9030\n",
      "Epoch 39/250\n",
      "24/24 [==============================] - 0s 570us/step - loss: 0.3067 - accuracy: 0.8608\n",
      "Epoch 40/250\n",
      "24/24 [==============================] - 0s 535us/step - loss: 0.2870 - accuracy: 0.8692\n",
      "Epoch 41/250\n",
      "24/24 [==============================] - 0s 537us/step - loss: 0.2717 - accuracy: 0.8903\n",
      "Epoch 42/250\n",
      "24/24 [==============================] - 0s 513us/step - loss: 0.3001 - accuracy: 0.8734\n",
      "Epoch 43/250\n",
      "24/24 [==============================] - 0s 540us/step - loss: 0.2870 - accuracy: 0.8861\n",
      "Epoch 44/250\n",
      "24/24 [==============================] - 0s 523us/step - loss: 0.2527 - accuracy: 0.9114\n",
      "Epoch 45/250\n",
      "24/24 [==============================] - 0s 533us/step - loss: 0.2756 - accuracy: 0.8945\n",
      "Epoch 46/250\n",
      "24/24 [==============================] - 0s 521us/step - loss: 0.2603 - accuracy: 0.8734\n",
      "Epoch 47/250\n",
      "24/24 [==============================] - 0s 569us/step - loss: 0.2820 - accuracy: 0.8903\n",
      "Epoch 48/250\n",
      "24/24 [==============================] - 0s 511us/step - loss: 0.2790 - accuracy: 0.8861\n",
      "Epoch 49/250\n",
      "24/24 [==============================] - 0s 477us/step - loss: 0.3010 - accuracy: 0.8861\n",
      "Epoch 50/250\n",
      "24/24 [==============================] - 0s 521us/step - loss: 0.2626 - accuracy: 0.9072\n",
      "Epoch 51/250\n",
      "24/24 [==============================] - 0s 536us/step - loss: 0.2868 - accuracy: 0.8692\n",
      "Epoch 52/250\n",
      "24/24 [==============================] - 0s 553us/step - loss: 0.2967 - accuracy: 0.8692\n",
      "Epoch 53/250\n",
      "24/24 [==============================] - 0s 524us/step - loss: 0.2802 - accuracy: 0.8861\n",
      "Epoch 54/250\n",
      "24/24 [==============================] - 0s 512us/step - loss: 0.2685 - accuracy: 0.8987\n",
      "Epoch 55/250\n",
      "24/24 [==============================] - 0s 477us/step - loss: 0.2836 - accuracy: 0.8819\n",
      "Epoch 56/250\n",
      "24/24 [==============================] - 0s 538us/step - loss: 0.2959 - accuracy: 0.8776\n",
      "Epoch 57/250\n",
      "24/24 [==============================] - 0s 479us/step - loss: 0.2903 - accuracy: 0.8861\n",
      "Epoch 58/250\n",
      "24/24 [==============================] - 0s 504us/step - loss: 0.2858 - accuracy: 0.8776\n",
      "Epoch 59/250\n",
      "24/24 [==============================] - 0s 491us/step - loss: 0.2721 - accuracy: 0.8945\n",
      "Epoch 60/250\n",
      "24/24 [==============================] - 0s 499us/step - loss: 0.2713 - accuracy: 0.9030\n",
      "Epoch 61/250\n",
      "24/24 [==============================] - 0s 502us/step - loss: 0.2782 - accuracy: 0.8861\n",
      "Epoch 62/250\n",
      "24/24 [==============================] - 0s 497us/step - loss: 0.2767 - accuracy: 0.9114\n",
      "Epoch 63/250\n",
      "24/24 [==============================] - 0s 477us/step - loss: 0.2444 - accuracy: 0.8987\n",
      "Epoch 64/250\n",
      "24/24 [==============================] - 0s 502us/step - loss: 0.2636 - accuracy: 0.8861\n",
      "Epoch 65/250\n",
      "24/24 [==============================] - 0s 490us/step - loss: 0.2772 - accuracy: 0.9241\n",
      "Epoch 66/250\n",
      "24/24 [==============================] - 0s 480us/step - loss: 0.2693 - accuracy: 0.8945\n",
      "Epoch 67/250\n",
      "24/24 [==============================] - 0s 502us/step - loss: 0.2941 - accuracy: 0.8945\n",
      "Epoch 68/250\n",
      "24/24 [==============================] - 0s 521us/step - loss: 0.2648 - accuracy: 0.9072\n",
      "Epoch 69/250\n",
      "24/24 [==============================] - 0s 504us/step - loss: 0.2556 - accuracy: 0.9030\n",
      "Epoch 70/250\n",
      "24/24 [==============================] - 0s 491us/step - loss: 0.2654 - accuracy: 0.9072\n",
      "Epoch 71/250\n",
      "24/24 [==============================] - 0s 463us/step - loss: 0.2647 - accuracy: 0.8819\n",
      "Epoch 72/250\n",
      "24/24 [==============================] - 0s 494us/step - loss: 0.2560 - accuracy: 0.9072\n",
      "Epoch 73/250\n",
      "24/24 [==============================] - 0s 484us/step - loss: 0.2483 - accuracy: 0.8903\n",
      "Epoch 74/250\n",
      "24/24 [==============================] - 0s 532us/step - loss: 0.2415 - accuracy: 0.8945\n",
      "Epoch 75/250\n",
      "24/24 [==============================] - 0s 992us/step - loss: 0.2861 - accuracy: 0.8819\n",
      "Epoch 76/250\n",
      "24/24 [==============================] - 0s 470us/step - loss: 0.2493 - accuracy: 0.8945\n",
      "Epoch 77/250\n",
      "24/24 [==============================] - 0s 570us/step - loss: 0.2675 - accuracy: 0.8819\n",
      "Epoch 78/250\n",
      "24/24 [==============================] - 0s 1ms/step - loss: 0.2502 - accuracy: 0.8945\n",
      "Epoch 79/250\n",
      "24/24 [==============================] - 0s 538us/step - loss: 0.2711 - accuracy: 0.8903\n",
      "Epoch 80/250\n",
      "24/24 [==============================] - 0s 586us/step - loss: 0.2322 - accuracy: 0.9072\n",
      "Epoch 81/250\n",
      "24/24 [==============================] - 0s 485us/step - loss: 0.2512 - accuracy: 0.9198\n",
      "Epoch 82/250\n"
     ]
    },
    {
     "name": "stdout",
     "output_type": "stream",
     "text": [
      "24/24 [==============================] - 0s 477us/step - loss: 0.2287 - accuracy: 0.9072\n",
      "Epoch 83/250\n",
      "24/24 [==============================] - 0s 489us/step - loss: 0.2668 - accuracy: 0.8819\n",
      "Epoch 84/250\n",
      "24/24 [==============================] - 0s 513us/step - loss: 0.2623 - accuracy: 0.8734\n",
      "Epoch 85/250\n",
      "24/24 [==============================] - 0s 514us/step - loss: 0.2477 - accuracy: 0.9241\n",
      "Epoch 86/250\n",
      "24/24 [==============================] - 0s 467us/step - loss: 0.2113 - accuracy: 0.9156\n",
      "Epoch 87/250\n",
      "24/24 [==============================] - 0s 526us/step - loss: 0.2349 - accuracy: 0.9072\n",
      "Epoch 88/250\n",
      "24/24 [==============================] - 0s 500us/step - loss: 0.2446 - accuracy: 0.9114\n",
      "Epoch 89/250\n",
      "24/24 [==============================] - 0s 453us/step - loss: 0.2840 - accuracy: 0.8945\n",
      "Epoch 90/250\n",
      "24/24 [==============================] - 0s 499us/step - loss: 0.2704 - accuracy: 0.8861\n",
      "Epoch 91/250\n",
      "24/24 [==============================] - 0s 451us/step - loss: 0.2860 - accuracy: 0.8903\n",
      "Epoch 92/250\n",
      "24/24 [==============================] - 0s 463us/step - loss: 0.2861 - accuracy: 0.9072\n",
      "Epoch 93/250\n",
      "24/24 [==============================] - 0s 473us/step - loss: 0.2733 - accuracy: 0.9156\n",
      "Epoch 94/250\n",
      "24/24 [==============================] - 0s 504us/step - loss: 0.2620 - accuracy: 0.8945\n",
      "Epoch 95/250\n",
      "24/24 [==============================] - 0s 457us/step - loss: 0.2583 - accuracy: 0.8987\n",
      "Epoch 96/250\n",
      "24/24 [==============================] - 0s 486us/step - loss: 0.2504 - accuracy: 0.9030\n",
      "Epoch 97/250\n",
      "24/24 [==============================] - 0s 462us/step - loss: 0.2530 - accuracy: 0.8861\n",
      "Epoch 98/250\n",
      "24/24 [==============================] - 0s 487us/step - loss: 0.2538 - accuracy: 0.8945\n",
      "Epoch 99/250\n",
      "24/24 [==============================] - 0s 434us/step - loss: 0.2610 - accuracy: 0.9072\n",
      "Epoch 100/250\n",
      "24/24 [==============================] - 0s 481us/step - loss: 0.2309 - accuracy: 0.9030\n",
      "Epoch 101/250\n",
      "24/24 [==============================] - 0s 494us/step - loss: 0.2350 - accuracy: 0.9198\n",
      "Epoch 102/250\n",
      "24/24 [==============================] - 0s 460us/step - loss: 0.2356 - accuracy: 0.9198\n",
      "Epoch 103/250\n",
      "24/24 [==============================] - 0s 492us/step - loss: 0.2481 - accuracy: 0.9325\n",
      "Epoch 104/250\n",
      "24/24 [==============================] - 0s 476us/step - loss: 0.2299 - accuracy: 0.9367\n",
      "Epoch 105/250\n",
      "24/24 [==============================] - 0s 460us/step - loss: 0.2210 - accuracy: 0.9114\n",
      "Epoch 106/250\n",
      "24/24 [==============================] - 0s 503us/step - loss: 0.2391 - accuracy: 0.9072\n",
      "Epoch 107/250\n",
      "24/24 [==============================] - 0s 487us/step - loss: 0.2410 - accuracy: 0.9072\n",
      "Epoch 108/250\n",
      "24/24 [==============================] - 0s 448us/step - loss: 0.2396 - accuracy: 0.9198\n",
      "Epoch 109/250\n",
      "24/24 [==============================] - 0s 523us/step - loss: 0.2438 - accuracy: 0.8987\n",
      "Epoch 110/250\n",
      "24/24 [==============================] - 0s 514us/step - loss: 0.2237 - accuracy: 0.8903\n",
      "Epoch 111/250\n",
      "24/24 [==============================] - 0s 485us/step - loss: 0.2244 - accuracy: 0.9156\n",
      "Epoch 112/250\n",
      "24/24 [==============================] - 0s 464us/step - loss: 0.2442 - accuracy: 0.9072\n",
      "Epoch 113/250\n",
      "24/24 [==============================] - 0s 533us/step - loss: 0.2255 - accuracy: 0.8903\n",
      "Epoch 114/250\n",
      "24/24 [==============================] - 0s 451us/step - loss: 0.2216 - accuracy: 0.9114\n",
      "Epoch 115/250\n",
      "24/24 [==============================] - 0s 450us/step - loss: 0.2124 - accuracy: 0.9114\n",
      "Epoch 116/250\n",
      "24/24 [==============================] - 0s 496us/step - loss: 0.2292 - accuracy: 0.8861\n",
      "Epoch 117/250\n",
      "24/24 [==============================] - 0s 451us/step - loss: 0.2324 - accuracy: 0.9241\n",
      "Epoch 118/250\n",
      "24/24 [==============================] - 0s 470us/step - loss: 0.2079 - accuracy: 0.9241\n",
      "Epoch 119/250\n",
      "24/24 [==============================] - 0s 461us/step - loss: 0.2440 - accuracy: 0.8861\n",
      "Epoch 120/250\n",
      "24/24 [==============================] - 0s 497us/step - loss: 0.2144 - accuracy: 0.9114\n",
      "Epoch 121/250\n",
      "24/24 [==============================] - 0s 497us/step - loss: 0.2500 - accuracy: 0.8987\n",
      "Epoch 122/250\n",
      "24/24 [==============================] - 0s 428us/step - loss: 0.2062 - accuracy: 0.9114\n",
      "Epoch 123/250\n",
      "24/24 [==============================] - 0s 497us/step - loss: 0.2151 - accuracy: 0.9030\n",
      "Epoch 124/250\n",
      "24/24 [==============================] - 0s 470us/step - loss: 0.2485 - accuracy: 0.9072\n",
      "Epoch 125/250\n",
      "24/24 [==============================] - 0s 482us/step - loss: 0.2518 - accuracy: 0.8945\n",
      "Epoch 126/250\n",
      "24/24 [==============================] - 0s 482us/step - loss: 0.2298 - accuracy: 0.9114\n",
      "Epoch 127/250\n",
      "24/24 [==============================] - 0s 510us/step - loss: 0.2016 - accuracy: 0.9198\n",
      "Epoch 128/250\n",
      "24/24 [==============================] - 0s 443us/step - loss: 0.2459 - accuracy: 0.8945\n",
      "Epoch 129/250\n",
      "24/24 [==============================] - 0s 475us/step - loss: 0.2180 - accuracy: 0.8987\n",
      "Epoch 130/250\n",
      "24/24 [==============================] - 0s 442us/step - loss: 0.2300 - accuracy: 0.9198\n",
      "Epoch 131/250\n",
      "24/24 [==============================] - 0s 510us/step - loss: 0.2368 - accuracy: 0.9325\n",
      "Epoch 132/250\n",
      "24/24 [==============================] - 0s 507us/step - loss: 0.2412 - accuracy: 0.9030\n",
      "Epoch 133/250\n",
      "24/24 [==============================] - 0s 465us/step - loss: 0.2231 - accuracy: 0.9156\n",
      "Epoch 134/250\n",
      "24/24 [==============================] - 0s 441us/step - loss: 0.1893 - accuracy: 0.9325\n",
      "Epoch 135/250\n",
      "24/24 [==============================] - 0s 484us/step - loss: 0.2135 - accuracy: 0.9325\n",
      "Epoch 136/250\n",
      "24/24 [==============================] - 0s 488us/step - loss: 0.1907 - accuracy: 0.9367\n",
      "Epoch 137/250\n",
      "24/24 [==============================] - 0s 491us/step - loss: 0.2100 - accuracy: 0.9241\n",
      "Epoch 138/250\n",
      "24/24 [==============================] - 0s 495us/step - loss: 0.2239 - accuracy: 0.8987\n",
      "Epoch 139/250\n",
      "24/24 [==============================] - 0s 463us/step - loss: 0.2098 - accuracy: 0.9283\n",
      "Epoch 140/250\n",
      "24/24 [==============================] - 0s 469us/step - loss: 0.2194 - accuracy: 0.8945\n",
      "Epoch 141/250\n",
      "24/24 [==============================] - 0s 435us/step - loss: 0.1977 - accuracy: 0.9198\n",
      "Epoch 142/250\n",
      "24/24 [==============================] - 0s 438us/step - loss: 0.2010 - accuracy: 0.9367\n",
      "Epoch 143/250\n",
      "24/24 [==============================] - 0s 488us/step - loss: 0.2212 - accuracy: 0.9156\n",
      "Epoch 144/250\n",
      "24/24 [==============================] - 0s 467us/step - loss: 0.2203 - accuracy: 0.9156\n",
      "Epoch 145/250\n",
      "24/24 [==============================] - 0s 455us/step - loss: 0.2348 - accuracy: 0.9241\n",
      "Epoch 146/250\n",
      "24/24 [==============================] - 0s 473us/step - loss: 0.2055 - accuracy: 0.9325\n",
      "Epoch 147/250\n",
      "24/24 [==============================] - 0s 506us/step - loss: 0.2225 - accuracy: 0.9156\n",
      "Epoch 148/250\n",
      "24/24 [==============================] - 0s 472us/step - loss: 0.2324 - accuracy: 0.8819\n",
      "Epoch 149/250\n",
      "24/24 [==============================] - 0s 445us/step - loss: 0.2323 - accuracy: 0.9114\n",
      "Epoch 150/250\n",
      "24/24 [==============================] - 0s 477us/step - loss: 0.2088 - accuracy: 0.9198\n",
      "Epoch 151/250\n",
      "24/24 [==============================] - 0s 472us/step - loss: 0.2356 - accuracy: 0.9030\n",
      "Epoch 152/250\n",
      "24/24 [==============================] - 0s 459us/step - loss: 0.2104 - accuracy: 0.9325\n",
      "Epoch 153/250\n",
      "24/24 [==============================] - 0s 500us/step - loss: 0.1861 - accuracy: 0.9198\n",
      "Epoch 154/250\n",
      "24/24 [==============================] - 0s 436us/step - loss: 0.1965 - accuracy: 0.9325\n",
      "Epoch 155/250\n",
      "24/24 [==============================] - 0s 491us/step - loss: 0.1991 - accuracy: 0.9198\n",
      "Epoch 156/250\n",
      "24/24 [==============================] - 0s 455us/step - loss: 0.2067 - accuracy: 0.9114\n",
      "Epoch 157/250\n",
      "24/24 [==============================] - 0s 496us/step - loss: 0.2302 - accuracy: 0.9030\n",
      "Epoch 158/250\n",
      "24/24 [==============================] - 0s 450us/step - loss: 0.2572 - accuracy: 0.8945\n",
      "Epoch 159/250\n",
      "24/24 [==============================] - 0s 490us/step - loss: 0.2282 - accuracy: 0.9030\n",
      "Epoch 160/250\n",
      "24/24 [==============================] - 0s 443us/step - loss: 0.1803 - accuracy: 0.9451\n",
      "Epoch 161/250\n"
     ]
    },
    {
     "name": "stdout",
     "output_type": "stream",
     "text": [
      "24/24 [==============================] - 0s 477us/step - loss: 0.1919 - accuracy: 0.9241\n",
      "Epoch 162/250\n",
      "24/24 [==============================] - 0s 468us/step - loss: 0.2575 - accuracy: 0.8987\n",
      "Epoch 163/250\n",
      "24/24 [==============================] - 0s 438us/step - loss: 0.2080 - accuracy: 0.9198\n",
      "Epoch 164/250\n",
      "24/24 [==============================] - 0s 456us/step - loss: 0.2049 - accuracy: 0.9072\n",
      "Epoch 165/250\n",
      "24/24 [==============================] - 0s 506us/step - loss: 0.2021 - accuracy: 0.9241\n",
      "Epoch 166/250\n",
      "24/24 [==============================] - 0s 482us/step - loss: 0.1907 - accuracy: 0.9241\n",
      "Epoch 167/250\n",
      "24/24 [==============================] - 0s 464us/step - loss: 0.2025 - accuracy: 0.9241\n",
      "Epoch 168/250\n",
      "24/24 [==============================] - 0s 471us/step - loss: 0.2060 - accuracy: 0.9198\n",
      "Epoch 169/250\n",
      "24/24 [==============================] - 0s 439us/step - loss: 0.1559 - accuracy: 0.9536\n",
      "Epoch 170/250\n",
      "24/24 [==============================] - 0s 454us/step - loss: 0.2215 - accuracy: 0.9114\n",
      "Epoch 171/250\n",
      "24/24 [==============================] - 0s 507us/step - loss: 0.1961 - accuracy: 0.9198\n",
      "Epoch 172/250\n",
      "24/24 [==============================] - 0s 466us/step - loss: 0.1959 - accuracy: 0.8987\n",
      "Epoch 173/250\n",
      "24/24 [==============================] - 0s 473us/step - loss: 0.1716 - accuracy: 0.9451\n",
      "Epoch 174/250\n",
      "24/24 [==============================] - 0s 484us/step - loss: 0.2223 - accuracy: 0.9114\n",
      "Epoch 175/250\n",
      "24/24 [==============================] - 0s 468us/step - loss: 0.2093 - accuracy: 0.9283\n",
      "Epoch 176/250\n",
      "24/24 [==============================] - 0s 489us/step - loss: 0.2136 - accuracy: 0.9325\n",
      "Epoch 177/250\n",
      "24/24 [==============================] - 0s 440us/step - loss: 0.1918 - accuracy: 0.9241\n",
      "Epoch 178/250\n",
      "24/24 [==============================] - 0s 456us/step - loss: 0.2144 - accuracy: 0.9241\n",
      "Epoch 179/250\n",
      "24/24 [==============================] - 0s 436us/step - loss: 0.2280 - accuracy: 0.9283\n",
      "Epoch 180/250\n",
      "24/24 [==============================] - 0s 492us/step - loss: 0.1941 - accuracy: 0.9241\n",
      "Epoch 181/250\n",
      "24/24 [==============================] - 0s 420us/step - loss: 0.1750 - accuracy: 0.9283\n",
      "Epoch 182/250\n",
      "24/24 [==============================] - 0s 487us/step - loss: 0.2372 - accuracy: 0.8945\n",
      "Epoch 183/250\n",
      "24/24 [==============================] - 0s 461us/step - loss: 0.1959 - accuracy: 0.9367\n",
      "Epoch 184/250\n",
      "24/24 [==============================] - 0s 432us/step - loss: 0.2055 - accuracy: 0.8987\n",
      "Epoch 185/250\n",
      "24/24 [==============================] - 0s 428us/step - loss: 0.1796 - accuracy: 0.9325\n",
      "Epoch 186/250\n",
      "24/24 [==============================] - 0s 463us/step - loss: 0.2091 - accuracy: 0.9283\n",
      "Epoch 187/250\n",
      "24/24 [==============================] - 0s 441us/step - loss: 0.2102 - accuracy: 0.9409\n",
      "Epoch 188/250\n",
      "24/24 [==============================] - 0s 433us/step - loss: 0.2276 - accuracy: 0.9156\n",
      "Epoch 189/250\n",
      "24/24 [==============================] - 0s 508us/step - loss: 0.1959 - accuracy: 0.9367\n",
      "Epoch 190/250\n",
      "24/24 [==============================] - 0s 440us/step - loss: 0.2068 - accuracy: 0.9114\n",
      "Epoch 191/250\n",
      "24/24 [==============================] - 0s 505us/step - loss: 0.1714 - accuracy: 0.9198\n",
      "Epoch 192/250\n",
      "24/24 [==============================] - 0s 444us/step - loss: 0.1913 - accuracy: 0.9198\n",
      "Epoch 193/250\n",
      "24/24 [==============================] - 0s 481us/step - loss: 0.1847 - accuracy: 0.9241\n",
      "Epoch 194/250\n",
      "24/24 [==============================] - 0s 436us/step - loss: 0.1980 - accuracy: 0.9241\n",
      "Epoch 195/250\n",
      "24/24 [==============================] - 0s 488us/step - loss: 0.1984 - accuracy: 0.9156\n",
      "Epoch 196/250\n",
      "24/24 [==============================] - 0s 472us/step - loss: 0.2000 - accuracy: 0.9156\n",
      "Epoch 197/250\n",
      "24/24 [==============================] - 0s 476us/step - loss: 0.1909 - accuracy: 0.9325\n",
      "Epoch 198/250\n",
      "24/24 [==============================] - 0s 479us/step - loss: 0.1786 - accuracy: 0.9367\n",
      "Epoch 199/250\n",
      "24/24 [==============================] - 0s 475us/step - loss: 0.1816 - accuracy: 0.9367\n",
      "Epoch 200/250\n",
      "24/24 [==============================] - 0s 491us/step - loss: 0.1942 - accuracy: 0.9241\n",
      "Epoch 201/250\n",
      "24/24 [==============================] - 0s 478us/step - loss: 0.1961 - accuracy: 0.9283\n",
      "Epoch 202/250\n",
      "24/24 [==============================] - 0s 456us/step - loss: 0.1958 - accuracy: 0.9283\n",
      "Epoch 203/250\n",
      "24/24 [==============================] - 0s 493us/step - loss: 0.2004 - accuracy: 0.9241\n",
      "Epoch 204/250\n",
      "24/24 [==============================] - 0s 462us/step - loss: 0.1776 - accuracy: 0.9578\n",
      "Epoch 205/250\n",
      "24/24 [==============================] - 0s 495us/step - loss: 0.1766 - accuracy: 0.9198\n",
      "Epoch 206/250\n",
      "24/24 [==============================] - 0s 477us/step - loss: 0.1794 - accuracy: 0.9241\n",
      "Epoch 207/250\n",
      "24/24 [==============================] - 0s 478us/step - loss: 0.1695 - accuracy: 0.9367\n",
      "Epoch 208/250\n",
      "24/24 [==============================] - 0s 474us/step - loss: 0.1835 - accuracy: 0.9156\n",
      "Epoch 209/250\n",
      "24/24 [==============================] - 0s 460us/step - loss: 0.1850 - accuracy: 0.9325\n",
      "Epoch 210/250\n",
      "24/24 [==============================] - 0s 436us/step - loss: 0.1892 - accuracy: 0.9367\n",
      "Epoch 211/250\n",
      "24/24 [==============================] - 0s 472us/step - loss: 0.1749 - accuracy: 0.9325\n",
      "Epoch 212/250\n",
      "24/24 [==============================] - 0s 471us/step - loss: 0.2053 - accuracy: 0.9198\n",
      "Epoch 213/250\n",
      "24/24 [==============================] - 0s 483us/step - loss: 0.1892 - accuracy: 0.9283\n",
      "Epoch 214/250\n",
      "24/24 [==============================] - 0s 455us/step - loss: 0.1874 - accuracy: 0.9409\n",
      "Epoch 215/250\n",
      "24/24 [==============================] - 0s 438us/step - loss: 0.1917 - accuracy: 0.9283\n",
      "Epoch 216/250\n",
      "24/24 [==============================] - 0s 464us/step - loss: 0.1979 - accuracy: 0.9325\n",
      "Epoch 217/250\n",
      "24/24 [==============================] - 0s 485us/step - loss: 0.1895 - accuracy: 0.9367\n",
      "Epoch 218/250\n",
      "24/24 [==============================] - 0s 454us/step - loss: 0.1928 - accuracy: 0.9325\n",
      "Epoch 219/250\n",
      "24/24 [==============================] - 0s 493us/step - loss: 0.2005 - accuracy: 0.9072\n",
      "Epoch 220/250\n",
      "24/24 [==============================] - 0s 463us/step - loss: 0.1657 - accuracy: 0.9325\n",
      "Epoch 221/250\n",
      "24/24 [==============================] - 0s 500us/step - loss: 0.2003 - accuracy: 0.9198\n",
      "Epoch 222/250\n",
      "24/24 [==============================] - 0s 470us/step - loss: 0.1937 - accuracy: 0.9409\n",
      "Epoch 223/250\n",
      "24/24 [==============================] - 0s 463us/step - loss: 0.1734 - accuracy: 0.9409\n",
      "Epoch 224/250\n",
      "24/24 [==============================] - 0s 467us/step - loss: 0.1977 - accuracy: 0.9241\n",
      "Epoch 225/250\n",
      "24/24 [==============================] - 0s 458us/step - loss: 0.1741 - accuracy: 0.9409\n",
      "Epoch 226/250\n",
      "24/24 [==============================] - 0s 824us/step - loss: 0.1676 - accuracy: 0.9578\n",
      "Epoch 227/250\n",
      "24/24 [==============================] - 0s 464us/step - loss: 0.1786 - accuracy: 0.9451\n",
      "Epoch 228/250\n",
      "24/24 [==============================] - 0s 498us/step - loss: 0.1874 - accuracy: 0.9409\n",
      "Epoch 229/250\n",
      "24/24 [==============================] - 0s 436us/step - loss: 0.2255 - accuracy: 0.9030\n",
      "Epoch 230/250\n",
      "24/24 [==============================] - 0s 481us/step - loss: 0.1599 - accuracy: 0.9536\n",
      "Epoch 231/250\n",
      "24/24 [==============================] - 0s 462us/step - loss: 0.1754 - accuracy: 0.9367\n",
      "Epoch 232/250\n",
      "24/24 [==============================] - 0s 494us/step - loss: 0.1794 - accuracy: 0.9367\n",
      "Epoch 233/250\n",
      "24/24 [==============================] - 0s 452us/step - loss: 0.1685 - accuracy: 0.9409\n",
      "Epoch 234/250\n",
      "24/24 [==============================] - 0s 463us/step - loss: 0.1875 - accuracy: 0.9325\n",
      "Epoch 235/250\n",
      "24/24 [==============================] - 0s 446us/step - loss: 0.1862 - accuracy: 0.9325\n",
      "Epoch 236/250\n",
      "24/24 [==============================] - 0s 478us/step - loss: 0.1947 - accuracy: 0.9156\n",
      "Epoch 237/250\n",
      "24/24 [==============================] - 0s 455us/step - loss: 0.1629 - accuracy: 0.9409\n",
      "Epoch 238/250\n",
      "24/24 [==============================] - 0s 529us/step - loss: 0.1650 - accuracy: 0.9367\n",
      "Epoch 239/250\n",
      "24/24 [==============================] - 0s 479us/step - loss: 0.1694 - accuracy: 0.9409\n",
      "Epoch 240/250\n"
     ]
    },
    {
     "name": "stdout",
     "output_type": "stream",
     "text": [
      "24/24 [==============================] - 0s 476us/step - loss: 0.1707 - accuracy: 0.9325\n",
      "Epoch 241/250\n",
      "24/24 [==============================] - 0s 459us/step - loss: 0.1751 - accuracy: 0.9409\n",
      "Epoch 242/250\n",
      "24/24 [==============================] - 0s 464us/step - loss: 0.1752 - accuracy: 0.9325\n",
      "Epoch 243/250\n",
      "24/24 [==============================] - 0s 458us/step - loss: 0.1735 - accuracy: 0.9325\n",
      "Epoch 244/250\n",
      "24/24 [==============================] - 0s 433us/step - loss: 0.1698 - accuracy: 0.9198\n",
      "Epoch 245/250\n",
      "24/24 [==============================] - 0s 433us/step - loss: 0.1726 - accuracy: 0.9409\n",
      "Epoch 246/250\n",
      "24/24 [==============================] - 0s 454us/step - loss: 0.1711 - accuracy: 0.9494\n",
      "Epoch 247/250\n",
      "24/24 [==============================] - 0s 448us/step - loss: 0.1641 - accuracy: 0.9451\n",
      "Epoch 248/250\n",
      "24/24 [==============================] - 0s 479us/step - loss: 0.2023 - accuracy: 0.9072\n",
      "Epoch 249/250\n",
      "24/24 [==============================] - 0s 439us/step - loss: 0.1934 - accuracy: 0.9072\n",
      "Epoch 250/250\n",
      "24/24 [==============================] - 0s 486us/step - loss: 0.1654 - accuracy: 0.9451\n",
      "2/2 [==============================] - 0s 2ms/step - loss: 0.8011 - accuracy: 0.8000\n",
      "Accuracy: 80.00\n"
     ]
    }
   ],
   "source": [
    "#### best model\n",
    "from tensorflow.keras.models import Sequential\n",
    "from tensorflow.keras.layers import Dense, Dropout\n",
    "input_features = X_train.shape[1]\n",
    "\n",
    "# define the keras model\n",
    "model = Sequential()\n",
    "model.add(Dense(64, input_shape=(input_features,), activation='relu'))\n",
    "\n",
    "# Add dropout regularization\n",
    "dropout_rate = 0.6  # Dropout rate between 0 and 1 (0 means no dropout, 1 means all neurons are dropped)\n",
    "model.add(Dropout(dropout_rate))\n",
    "model.add(Dense(1, activation='sigmoid'))\n",
    "\n",
    "\n",
    "# compile the keras model\n",
    "model.compile(loss='binary_crossentropy', optimizer='adam', metrics=['accuracy'])\n",
    "\n",
    "\n",
    "# fit the keras model on the dataset\n",
    "model.fit(X_train, y_train, epochs=250, batch_size=10)\n",
    "\n",
    "# evaluate the keras model\n",
    "loss, accuracy = model.evaluate(X_test, y_test)\n",
    "print('Accuracy: %.2f' % (accuracy*100))"
   ]
  },
  {
   "cell_type": "markdown",
   "id": "a2cc4770",
   "metadata": {},
   "source": [
    "## Clustering"
   ]
  },
  {
   "cell_type": "code",
   "execution_count": 66,
   "id": "d6037c1b",
   "metadata": {},
   "outputs": [
    {
     "name": "stdout",
     "output_type": "stream",
     "text": [
      "(297, 14)\n"
     ]
    }
   ],
   "source": [
    "import pandas as pd\n",
    "import numpy as np\n",
    "from sklearn.preprocessing import StandardScaler\n",
    "from sklearn.decomposition import PCA\n",
    "from sklearn.cluster import KMeans\n",
    "import matplotlib.pyplot as plt\n",
    "import seaborn as sns\n",
    "\n",
    "#dropping target\n",
    "data_ul = shuffled_df.drop(['target'],axis=1)\n",
    "print(data_ul.shape)\n",
    "data_ul.head()\n",
    "# Standardize the data\n",
    "scaler = StandardScaler()\n",
    "data_scaled = scaler.fit_transform(data_ul)"
   ]
  },
  {
   "cell_type": "code",
   "execution_count": 67,
   "id": "c4f9917b",
   "metadata": {},
   "outputs": [
    {
     "data": {
      "image/png": "[encoded data removed]",
      "text/plain": [
       "<Figure size 432x288 with 1 Axes>"
      ]
     },
     "metadata": {
      "needs_background": "light"
     },
     "output_type": "display_data"
    }
   ],
   "source": [
    "# Determine the optimal number of clusters using the elbow method\n",
    "inertia = []\n",
    "for i in range(1, 11):\n",
    "    kmeans = KMeans(n_clusters=i, random_state=42)\n",
    "    kmeans.fit(data_scaled)\n",
    "    inertia.append(kmeans.inertia_)\n",
    "    \n",
    "    \n",
    "plt.plot(range(1, 11), inertia)\n",
    "plt.xlabel('Number of Clusters')\n",
    "plt.ylabel('Inertia')\n",
    "plt.title('Elbow Method')\n",
    "plt.show()\n"
   ]
  },
  {
   "cell_type": "markdown",
   "id": "c43b2d0b",
   "metadata": {},
   "source": [
    "### Determining the optimal k for K-means"
   ]
  },
  {
   "cell_type": "code",
   "execution_count": 69,
   "id": "d71500de",
   "metadata": {},
   "outputs": [
    {
     "data": {
      "image/png": "[encoded data removed]",
      "text/plain": [
       "<Figure size 1080x576 with 4 Axes>"
      ]
     },
     "metadata": {},
     "output_type": "display_data"
    }
   ],
   "source": [
    "from sklearn.cluster import KMeans\n",
    "import matplotlib.pyplot as plt\n",
    "from yellowbrick.cluster import SilhouetteVisualizer\n",
    "\n",
    "fig, ax = plt.subplots(2, 2, figsize=(15,8))\n",
    "for i in [2, 3, 4, 5]:\n",
    "#     Create KMeans instances for different number of clusters\n",
    "    km = KMeans(n_clusters=i, init='k-means++', n_init=10, max_iter=100, random_state=42)\n",
    "    q, mod = divmod(i, 2)\n",
    "#     Create SilhouetteVisualizer instance with KMeans instance\n",
    "#     Fit the visualizer\n",
    "    visualizer = SilhouetteVisualizer(km, colors='yellowbrick', ax=ax[q-1][mod])\n",
    "    visualizer.fit(data_scaled) "
   ]
  },
  {
   "cell_type": "markdown",
   "id": "25150103",
   "metadata": {},
   "source": [
    "### Perform K-means"
   ]
  },
  {
   "cell_type": "code",
   "execution_count": 77,
   "id": "7b64f3a9",
   "metadata": {},
   "outputs": [],
   "source": [
    "# Perform PCA to reduce dimensionality for visualization\n",
    "pca = PCA(n_components=2)\n",
    "data_pca = pca.fit_transform(data_scaled)\n",
    "\n",
    "# Perform KMeans clustering with the optimal number of clusters\n",
    "optimal_clusters = 2  # Replace this with the optimal number of clusters based on the elbow method plot\n",
    "kmeans = KMeans(n_clusters=optimal_clusters, random_state=42)\n",
    "clusters = kmeans.fit_predict(data_scaled)"
   ]
  },
  {
   "cell_type": "code",
   "execution_count": 78,
   "id": "1625604a",
   "metadata": {},
   "outputs": [
    {
     "data": {
      "image/png": "[encoded data removed]",
      "text/plain": [
       "<Figure size 576x432 with 1 Axes>"
      ]
     },
     "metadata": {},
     "output_type": "display_data"
    }
   ],
   "source": [
    "# Visualize the clusters in the 2D PCA space\n",
    "plt.figure(figsize=(8, 6))\n",
    "sns.scatterplot(x=data_pca[:, 0], y=data_pca[:, 1], hue=clusters, palette='viridis', s=100, alpha=0.8)\n",
    "plt.xlabel('First Principal Component')\n",
    "plt.ylabel('Second Principal Component')\n",
    "plt.title('Clustering Visualization')\n",
    "plt.show()"
   ]
  },
  {
   "cell_type": "code",
   "execution_count": 79,
   "id": "46f79b92",
   "metadata": {},
   "outputs": [
    {
     "name": "stdout",
     "output_type": "stream",
     "text": [
      "Silhouette score: 0.20227489561033546\n"
     ]
    }
   ],
   "source": [
    "import numpy as np\n",
    "from sklearn.cluster import KMeans\n",
    "from sklearn.metrics import silhouette_score\n",
    "from sklearn.datasets import make_blobs\n",
    "\n",
    "# Calculate silhouette score\n",
    "score = silhouette_score(data_scaled, clusters)\n",
    "print(\"Silhouette score:\", score)"
   ]
  }
 ],
 "metadata": {
  "kernelspec": {
   "display_name": "Python 3 (ipykernel)",
   "language": "python",
   "name": "python3"
  },
  "language_info": {
   "codemirror_mode": {
    "name": "ipython",
    "version": 3
   },
   "file_extension": ".py",
   "mimetype": "text/x-python",
   "name": "python",
   "nbconvert_exporter": "python",
   "pygments_lexer": "ipython3",
   "version": "3.10.11"
  }
 },
 "nbformat": 4,
 "nbformat_minor": 5
}
